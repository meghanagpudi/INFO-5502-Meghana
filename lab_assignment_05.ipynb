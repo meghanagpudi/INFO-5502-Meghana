{
  "cells": [
    {
      "cell_type": "markdown",
      "metadata": {
        "id": "view-in-github",
        "colab_type": "text"
      },
      "source": [
        "<a href=\"https://colab.research.google.com/github/meghanagpudi/INFO-5502-Meghana/blob/main/lab_assignment_05.ipynb\" target=\"_parent\"><img src=\"https://colab.research.google.com/assets/colab-badge.svg\" alt=\"Open In Colab\"/></a>"
      ]
    },
    {
      "cell_type": "markdown",
      "metadata": {
        "id": "kyq9Y-ajQzge"
      },
      "source": [
        "## The fifth Lab-assignment (07/29/2022 11:59'AM' - 08/02/2022 11:59PM, 50 points in total)"
      ]
    },
    {
      "cell_type": "markdown",
      "metadata": {
        "id": "JaUiBX23Qzgk"
      },
      "source": [
        "The purpose of this exercise is to understand Data Visualization, we will practice how to create visualizations for different datasets bu using different tools."
      ]
    },
    {
      "cell_type": "markdown",
      "metadata": {
        "id": "TA-F9euTQzgl"
      },
      "source": [
        "Question 1 (50 points). In this questions, you will design a visualization for a small data set and provide a rigorous rationale for your design choices. \n",
        "\n",
        "Every 10 years, the census bureau documents the demographic make-up of the United States, influencing everything from congressional districting to social services. This dataset contains a high-level summary of census data for two years a century apart: 1900 and 2000. The data is a CSV (comma-separated values) file that describes the U.S. population in terms of year, reported sex (1: male, 2: female), age group (binned into 5 year segments from 0-4 years old up to 90+ years old), and the total count of people per group. There are 38 data points per year, for a total of 76 data points.\n",
        "\n",
        "You can download the dataset here: \n",
        "\n",
        "Dataset: https://github.com/suthapalliuday/INFO5502-Summer2022/blob/main/datasets/lab_assignment_05_census.csv\n",
        "\n",
        "Source: https://www.ipums.org/\n",
        "\n",
        "(1)(10 points) Start by choosing a question you'd like a visualization to answer.\n",
        "\n",
        "(2)(30 points) Generate a static visualization (i.e., a single image) that you believe effectively answers that question, and use the question as the title of your graphic.\n",
        "\n",
        "(3)(10 points) Provide a short write-up (no more than 3 paragraphs) describing your design.\n",
        "\n",
        "\n",
        "While you must use the data set given, you are free to transform the data as you see fit. Such transforms may include (but are not limited to) log transformation, computing percentages or averages, grouping elements into new categories, or removing unnecessary variables or records. You are also free to incorporate external data as you see fit. Your chart image should be interpretable without recourse to your short write-up. Do not forget to include title, axis labels or legends as needed!\n",
        "\n",
        "As different visualizations can emphasize different aspects of a data set, you should document what aspects of the data you are attempting to most effectively communicate. In short, what story are you trying to tell? Just as important, also note which aspects of the data might be obscured or down-played due to your visualization design.\n",
        "\n",
        "In your write-up, you should provide a rigorous rationale for your design decisions. Document the visual encodings you used and why they are appropriate for the data and your specific question. These decisions include the choice of visualization type, size, color, scale, and other visual elements, as well as the use of sorting or other data transformations. How do these decisions facilitate effective communication?"
      ]
    },
    {
      "cell_type": "code",
      "execution_count": null,
      "metadata": {
        "id": "09TbgyhnQzgm"
      },
      "outputs": [],
      "source": [
        "# Your answer here (question + explanation):\n",
        "\n",
        "The question i have chosen is to Display total number of people for the years 1900 and 2000 based on the Sex and also visualization showing connection bwetween Age and Sex,to analyse the data too.\n",
        "\n",
        "\n",
        "\n"
      ]
    },
    {
      "cell_type": "code",
      "source": [
        "# Your answer here (python code + explanation):\n",
        "import pandas as pa\n",
        "import numpy as na\n",
        "import matplotlib.pyplot as pl\n",
        "import seaborn as sn\n",
        "import matplotlib.pyplot as pl\n",
        "%matplotlib inline\n",
        "\n",
        "#read the file\n",
        "df=pa.read_csv('lab_assignment_05_census (1).csv')\n",
        "\n",
        "# Visualization\n",
        "sn.barplot(data=df, x='Sex', y='People', hue='Year', dodge=True )\n",
        "pl.ticklabel_format(style='plain', axis='y')\n",
        "pl.title('Displaying total number of people based on the Sex for the years 1990 and 2000')\n",
        "pl.show()\n",
        "\n"
      ],
      "metadata": {
        "id": "zHS4pK04lcwh",
        "outputId": "c25d75b3-1303-4646-ac21-d1179b5a11e9",
        "colab": {
          "base_uri": "https://localhost:8080/",
          "height": 295
        }
      },
      "execution_count": 9,
      "outputs": [
        {
          "output_type": "display_data",
          "data": {
            "text/plain": [
              "<Figure size 432x288 with 1 Axes>"
            ],
            "image/png": "[encoded data removed]"
          },
          "metadata": {
            "needs_background": "light"
          }
        }
      ]
    },
    {
      "cell_type": "code",
      "source": [
        "import numpy as np\n",
        "df = pa.read_csv('lab_assignment_05_census (1).csv')\n",
        "# VISUALIZATION\n",
        "sn.histplot(x='Age',y='Sex',data=df)\n",
        "pl.title(\"Histogram visualization defining relation between Age and Sex\")\n",
        "pl.show()"
      ],
      "metadata": {
        "colab": {
          "base_uri": "https://localhost:8080/",
          "height": 295
        },
        "id": "XFMnmzrejBaw",
        "outputId": "da02c6fb-db45-4b36-f9f5-ccc7179d903d"
      },
      "execution_count": 7,
      "outputs": [
        {
          "output_type": "display_data",
          "data": {
            "text/plain": [
              "<Figure size 432x288 with 1 Axes>"
            ],
            "image/png": "[encoded data removed]"
          },
          "metadata": {
            "needs_background": "light"
          }
        }
      ]
    },
    {
      "cell_type": "code",
      "execution_count": null,
      "metadata": {
        "id": "skZf3usfQzgo"
      },
      "outputs": [],
      "source": [
        "# Your answer here (interpretation of the results):\n",
        "\n",
        "By using the matplot and seaborn in the visualization 1 the total number of people in the given data set is visualized on basis of Sex for the given years 1900 and 2000.\n",
        "I have taken Sex on the X-axis and the total number of people on the Y-axis and also the year is differentiated by using colors in which blue color indicates the 1900 year and orange color indicates the 2000 year.\n",
        "When observed the male and female percentage is equal in 1900 year, whereas the female count is slightly more in 2000.\n",
        "We can also see that as the year increased the population count also increased in both men and women.\n",
        "Hence this kind of analysis will be much more helpful for product manufacturers.\n",
        "This is the most used visualization by using barplot because it is easy for data analysis.\n",
        "\n",
        "In the visualization 2, I have used the histogram in Seaborn and this can be performed by using the histplot() function.\n",
        "The Age is taken on the X margin and the Sex is defined on the y margin.\n",
        "Here we can know that men and women are equally distributed among the ages that is every age mentioned in the dataset has a women and men.\n",
        "By using these graphs the data is effectively analysed for the better business understanding and requirement for their continous growth.\n",
        " A super efficient company represents a best data analyst.\n",
        "\n",
        "\n",
        "\n",
        "\n"
      ]
    }
  ],
  "metadata": {
    "kernelspec": {
      "display_name": "Python 3 (ipykernel)",
      "language": "python",
      "name": "python3"
    },
    "language_info": {
      "codemirror_mode": {
        "name": "ipython",
        "version": 3
      },
      "file_extension": ".py",
      "mimetype": "text/x-python",
      "name": "python",
      "nbconvert_exporter": "python",
      "pygments_lexer": "ipython3",
      "version": "3.9.12"
    },
    "colab": {
      "name": "lab_assignment_05.ipynb",
      "provenance": [],
      "collapsed_sections": [],
      "include_colab_link": true
    }
  },
  "nbformat": 4,
  "nbformat_minor": 0
}