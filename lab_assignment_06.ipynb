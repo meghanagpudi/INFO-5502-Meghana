{
  "cells": [
    {
      "cell_type": "markdown",
      "metadata": {
        "id": "view-in-github",
        "colab_type": "text"
      },
      "source": [
        "<a href=\"https://colab.research.google.com/github/meghanagpudi/INFO-5502-Meghana/blob/main/lab_assignment_06.ipynb\" target=\"_parent\"><img src=\"https://colab.research.google.com/assets/colab-badge.svg\" alt=\"Open In Colab\"/></a>"
      ]
    },
    {
      "cell_type": "markdown",
      "metadata": {
        "id": "qZEDqcs3SRQS"
      },
      "source": [
        "## The sixth Lab-assignment (08/02/2022 11:59'AM' - 08/05/2022 11:59PM, 50 points in total)"
      ]
    },
    {
      "cell_type": "markdown",
      "metadata": {
        "id": "p4Wh-D5lSRQc"
      },
      "source": [
        "The purpose of this exercise is to build a simple predicition model which can helpyou understand the workflow of machine learning. "
      ]
    },
    {
      "cell_type": "markdown",
      "metadata": {
        "id": "iTg0B8WlSRQd"
      },
      "source": [
        "### Q1 Task Decription (50 Points)"
      ]
    },
    {
      "cell_type": "markdown",
      "metadata": {
        "id": "Z_n8p9IESRQe"
      },
      "source": [
        "The goal of this assignment is to predict bike share use, given the hour, day, and information about the weather. Companies like Divvy try to predict how much demand there will be for bikes on any given day to allocate resources to redistribute bikes so that, ideally, very few bike stations are ever full (when you can’t park your bike) or empty (when you can’t pick up a bike if you want to).\n",
        "\n",
        "The data (link: https://github.com/suthapalliuday/INFO5502-Summer2022/tree/main/datasets/lab_assignment_06) in Github provides detailed information on the data set and necessary downloads."
      ]
    },
    {
      "cell_type": "markdown",
      "metadata": {
        "id": "yeL7tivgSRQf"
      },
      "source": [
        "### Data Description"
      ]
    },
    {
      "cell_type": "markdown",
      "metadata": {
        "id": "7_qot6yuSRQg"
      },
      "source": [
        "You are provided hourly rental data spanning two years (link: https://github.com/suthapalliuday/INFO5502-Summer2022/tree/main/datasets/lab_assignment_06). For this task, the training set is comprised of the first 16 days of each month, while the test set is the 17-19th day of the month. You must predict the total count of bikes rented during each hour covered by the test set, using only information available prior to the rental period. That is, predict \"count\" without using \"count\" or its components \"casual\" and \"registered\".\n",
        "\n",
        "Data Fields\n",
        "\n",
        "datetime - hourly date + timestamp\n",
        "\n",
        "season - 1 = spring, 2 = summer, 3 = fall, 4 = winter\n",
        "\n",
        "holiday - whether the day is considered a holiday\n",
        "\n",
        "workingday - whether the day is neither a weekend nor holiday\n",
        "\n",
        "weather -\n",
        "\n",
        "1 - Clear, Few clouds, Partly cloudy, Partly cloudy\n",
        "\n",
        "2 - Mist + Cloudy, Mist + Broken clouds, Mist + Few clouds, Mist\n",
        "\n",
        "3 - Light Snow, Light Rain + Thunderstorm + Scattered clouds, Light Rain + Scattered clouds\n",
        "\n",
        "4 - Heavy Rain + Ice Pallets + Thunderstorm + Mist, Snow + Fog\n",
        "\n",
        "temp - temperature in Celsius\n",
        "\n",
        "atemp - \"feels like\" temperature in Celsius\n",
        "\n",
        "humidity - relative humidity\n",
        "\n",
        "windspeed - wind speed\n",
        "\n",
        "casual - number of non-registered user rentals initiated\n",
        "\n",
        "registered - number of registered user rentals initiated\n",
        "\n",
        "count - number of total rentals"
      ]
    },
    {
      "cell_type": "markdown",
      "metadata": {
        "id": "nw6dco2bSRQj"
      },
      "source": [
        "### Output"
      ]
    },
    {
      "cell_type": "markdown",
      "metadata": {
        "id": "3Sedm6mTSRQk"
      },
      "source": [
        "Submission Format\n",
        "\n",
        "Your output (a separate file) must have a header line and should be structured in the following format:\n",
        "\n",
        " datetime,count\n",
        " \n",
        " 2011-01-20 00:00:00,0 \n",
        " \n",
        " 2011-01-20 01:00:00,0\n",
        " \n",
        " 2011-01-20 02:00:00,0\n",
        " \n",
        " ...\n",
        " \n",
        "The tutorial code should demonstrate how to generate such a file from a very simple prediction model. Note, these prediction are to be done on the test file under the data tab, where you do not know the actual count, and should match the rows of the test file in count and order.\n",
        "\n",
        "Your predictions should be compared to the ground truth information (sample_prediction.csv). Score are calculated using Root Mean Squared Error (RMSE)."
      ]
    },
    {
      "cell_type": "markdown",
      "metadata": {
        "id": "bAVqGYOzSRQm"
      },
      "source": [
        "### Tips"
      ]
    },
    {
      "cell_type": "markdown",
      "metadata": {
        "id": "-MQO_BsDSRQn"
      },
      "source": [
        "●\tAdd features: Pick columns/features from the data you already have. Or make a new feature from the ones you have. For example, the tutorial makes ‘hour’ from the datetime stamp, which seemed very useful. How about ‘month’?\n",
        "\n",
        "●\tModel selection: Try different models. Make sure they are regression models rather than classification models. Tip: random forest regression is a good, all around modeling strategy on complicated data sets.\n",
        "\n",
        "●\tModel tuning: Almost all regression models have parameters to tune (“hyperparameters”). E.g. polynomial regression has the degree of the polynomial (n = 1 for a line, n=2 for a quadratic fit, n=3 for a cubic fit…). Generally, one extreme makes the model too simple (e.g. a line for a curved set of points) and the other extreme makes the model overfit/be too complex, and usually the right choice is in between. For some models it is obvious what to tune (e.g. k for k nearest neighbors regression) and some don’t need much tuning with defaults that often work well. e.g. try changing the number of trees used in the random forest model!\n",
        "\n",
        "●\tCross validation: The tutorial has a simple way of separating training and test data, however, there are better ways of splitting training and test data. Look into cross validation techniques, which are more reliable than an arbitrary split of training and test data.\n",
        "\n",
        "●\tSeparate models for ...: Notice that count comes from just adding casual riders and registered riders. However, what if these two types of riders acted very differently? It might make sense to make two separate models and just add the results of both models together. This is also true for any subsets of your data that may behave wildly differently (e.g. create a separate model for each season?)"
      ]
    },
    {
      "cell_type": "markdown",
      "metadata": {
        "id": "35yowq-vSRQp"
      },
      "source": [
        "### Your code"
      ]
    },
    {
      "cell_type": "code",
      "source": [
        "import pandas as pd\n",
        "import numpy as np\n",
        "import matplotlib.pyplot as plot\n",
        "\n",
        "data = \"https://raw.githubusercontent.com/suthapalliuday/INFO5502-Summer2022/main/datasets/lab_assignment_06/\"\n",
        "dataframe = pd.read_csv(data+'train_luc.csv', header=0)\n",
        "def data_Extraction():\n",
        "    \n",
        "    dataframe['day'] = pd.DatetimeIndex(dataframe['datetime']).day\n",
        "    dataframe['month']=pd.DatetimeIndex(dataframe['datetime']).month\n",
        "    dataframe['hour']=pd.DatetimeIndex(dataframe['datetime']).hour\n",
        "    dataframe['year']=pd.DatetimeIndex(dataframe['datetime']).year\n",
        "\n",
        "    print(dataframe.head(5))\n",
        "\n",
        "data_Extraction()"
      ],
      "metadata": {
        "colab": {
          "base_uri": "https://localhost:8080/"
        },
        "id": "1SUZpLgF1I4Q",
        "outputId": "60fe2b11-2522-4432-bf26-76395a2680a8"
      },
      "execution_count": 1,
      "outputs": [
        {
          "output_type": "stream",
          "name": "stdout",
          "text": [
            "              datetime  season  holiday  workingday  weather  temp   atemp  \\\n",
            "0  2011-01-01 00:00:00       1        0           0        1  9.84  14.395   \n",
            "1  2011-01-01 01:00:00       1        0           0        1  9.02  13.635   \n",
            "2  2011-01-01 02:00:00       1        0           0        1  9.02  13.635   \n",
            "3  2011-01-01 03:00:00       1        0           0        1  9.84  14.395   \n",
            "4  2011-01-01 04:00:00       1        0           0        1  9.84  14.395   \n",
            "\n",
            "   humidity  windspeed  casual  registered  count  day  month  hour  year  \n",
            "0        81        0.0       3          13     16    1      1     0  2011  \n",
            "1        80        0.0       8          32     40    1      1     1  2011  \n",
            "2        80        0.0       5          27     32    1      1     2  2011  \n",
            "3        75        0.0       3          10     13    1      1     3  2011  \n",
            "4        75        0.0       0           1      1    1      1     4  2011  \n"
          ]
        }
      ]
    },
    {
      "cell_type": "code",
      "source": [
        "def hour_level_usage():\n",
        "    hours = np.unique(dataframe['hour'])\n",
        "    avg_usage_per_hour = {}\n",
        "    for hour in hours:\n",
        "        df1 = dataframe.loc[dataframe['hour'] == hour]\n",
        "        avg_usage_per_hour[hour] = df1['count'].mean()\n",
        "    hours = list(avg_usage_per_hour.keys())\n",
        "    bike_usage = list(avg_usage_per_hour.values())\n",
        "    plot.xlabel(\"hour\")\n",
        "    plot.ylabel(\"avg bikes used per hour\")\n",
        "    plot.title(\"Data across last 2 years\")\n",
        "    plot.bar(hours,bike_usage, color='green')\n",
        "hour_level_usage()"
      ],
      "metadata": {
        "colab": {
          "base_uri": "https://localhost:8080/",
          "height": 295
        },
        "id": "rQH8JcAy1YrK",
        "outputId": "1e46bcc8-80a8-417f-dae5-428d750814b6"
      },
      "execution_count": 2,
      "outputs": [
        {
          "output_type": "display_data",
          "data": {
            "text/plain": [
              "<Figure size 432x288 with 1 Axes>"
            ],
            "image/png": "[encoded data removed]"
          },
          "metadata": {
            "needs_background": "light"
          }
        }
      ]
    },
    {
      "cell_type": "code",
      "source": [
        "def season_level_usage():\n",
        "    seasons = np.unique(dataframe['season'])\n",
        "    print(\"seasons:\",seasons)\n",
        "    avg_usage_per_season = {}\n",
        "    for season in seasons:\n",
        "        df2 = dataframe.loc[dataframe['season'] == season]\n",
        "        avg_usage_per_season[season] = df2['count'].mean()\n",
        "    bike_usage_per_season = list(avg_usage_per_season.values())\n",
        "    plot.xlabel(\"season\")\n",
        "    plot.ylabel(\"avg no of bikes used\")\n",
        "    plot.title(\"Data across last 2 years\")\n",
        "    plot.bar(seasons, bike_usage_per_season, color=\"yellow\")\n",
        "    \n",
        "season_level_usage()"
      ],
      "metadata": {
        "colab": {
          "base_uri": "https://localhost:8080/",
          "height": 312
        },
        "id": "waSpxUiC1faN",
        "outputId": "68e497fb-4c86-495c-a3ae-c8360bb8d749"
      },
      "execution_count": 3,
      "outputs": [
        {
          "output_type": "stream",
          "name": "stdout",
          "text": [
            "seasons: [1 2 3 4]\n"
          ]
        },
        {
          "output_type": "display_data",
          "data": {
            "text/plain": [
              "<Figure size 432x288 with 1 Axes>"
            ],
            "image/png": "[encoded data removed]"
          },
          "metadata": {
            "needs_background": "light"
          }
        }
      ]
    },
    {
      "cell_type": "code",
      "source": [
        "def monthly_bike_usage():\n",
        "    months = np.unique(dataframe['month'])\n",
        "    avg_usage_per_month = {}\n",
        "    for month in months:\n",
        "        df1 = dataframe.loc[dataframe[\"month\"] == month]\n",
        "        avg_usage_per_month[month] = df1['count'].mean()\n",
        "    plot.xlabel(\"month\")\n",
        "    plot.ylabel(\"Avg Bikes Used\")\n",
        "    plot.title(\"Data across last 2 years\")\n",
        "    plot.bar(months,list(avg_usage_per_month.values()), color='black')\n",
        "    \n",
        "monthly_bike_usage()"
      ],
      "metadata": {
        "colab": {
          "base_uri": "https://localhost:8080/",
          "height": 295
        },
        "id": "f4m-BDjI1k__",
        "outputId": "81bc11c7-0398-44ad-b5e6-0a4e418b58bf"
      },
      "execution_count": 4,
      "outputs": [
        {
          "output_type": "display_data",
          "data": {
            "text/plain": [
              "<Figure size 432x288 with 1 Axes>"
            ],
            "image/png": "[encoded data removed]"
          },
          "metadata": {
            "needs_background": "light"
          }
        }
      ]
    },
    {
      "cell_type": "code",
      "source": [
        "columns = [\"day\",\"hour\",\"month\",\"season\",] \n",
        "from sklearn.ensemble import RandomForestRegressor\n",
        "from sklearn.model_selection import KFold as cross_validate\n",
        "from sklearn.metrics import mean_squared_error\n",
        "from sklearn import preprocessing\n",
        "from sklearn.model_selection import train_test_split\n",
        "from sklearn.metrics import mean_squared_error\n",
        "\n",
        "#using randomforest model as per assignment\n",
        "\n",
        "regression_model = RandomForestRegressor(n_estimators = 1)\n",
        "cross_validation = cross_validate(n_splits=3, shuffle=True)\n",
        "cross_validation.get_n_splits()\n",
        "cross_validation.split(dataframe)"
      ],
      "metadata": {
        "colab": {
          "base_uri": "https://localhost:8080/"
        },
        "id": "Gq9FK1Mn1tSZ",
        "outputId": "7fea952e-5e2e-40aa-b466-59cc0396ce59"
      },
      "execution_count": 6,
      "outputs": [
        {
          "output_type": "execute_result",
          "data": {
            "text/plain": [
              "<generator object _BaseKFold.split at 0x7f099ec3ced0>"
            ]
          },
          "metadata": {},
          "execution_count": 6
        }
      ]
    },
    {
      "cell_type": "code",
      "source": [
        "# common methods for future usage\n",
        "def fit_model(x, y):\n",
        "  regression_model.fit(x,y)\n",
        "def model_prediction(x):\n",
        "  return regression_model.predict(x)\n",
        "def rms(x,y):\n",
        "  val = np.sqrt(mean_squared_error(x,y))\n",
        "  return val"
      ],
      "metadata": {
        "id": "ffMVrR_415I8"
      },
      "execution_count": 8,
      "outputs": []
    },
    {
      "cell_type": "code",
      "source": [
        "# preprocessing data for test train data split\n",
        "X, y, casual_drivers ,registered_drivers = dataframe[columns], dataframe['count'].values, dataframe['casual'].values, dataframe['registered'].values\n",
        "X,y,casual_drivers, registered_drivers = preprocessing.scale(X) ,preprocessing.scale(y) ,preprocessing.scale(casual_drivers), preprocessing.scale(registered_drivers)  \n",
        "\n",
        "#splitting data to test and training using train_test_split\n",
        "X_train_casual,X_test_casual,casual_train,casual_test = train_test_split(X,casual_drivers,test_size=0.2)\n",
        "X_train_registered,X_test_registered,registered_train,registered_test = train_test_split(X,registered_drivers,test_size=0.2)\n",
        "\n",
        "for train_index, test_index in cross_validation.split(X):\n",
        "    X_train, X_test = X[train_index], X[test_index]\n",
        "    y_train, y_test = y[train_index], y[test_index]"
      ],
      "metadata": {
        "id": "u9mK6VBB2JyB"
      },
      "execution_count": 9,
      "outputs": []
    },
    {
      "cell_type": "code",
      "source": [
        "# Get prediction values using RandomForest Regression model\n",
        "fit_model(X_train, y_train)\n",
        "fit_model(X_train_casual, casual_train)\n",
        "fit_model(X_train_registered, registered_train)\n",
        "\n",
        "# predict on the testing subset of the original training data\n",
        "prediction_count = model_prediction(X_test)\n",
        "casual_prediction = model_prediction(X_test_casual)\n",
        "registered_prediction = model_prediction(X_test_registered)\n",
        "\n",
        "print(\"prediction_count:\", prediction_count)\n",
        "print(\"casual_prediction:\", casual_prediction)\n",
        "print(\"registered_prediction:\", registered_prediction)"
      ],
      "metadata": {
        "colab": {
          "base_uri": "https://localhost:8080/"
        },
        "id": "pcMrfkok2Q1C",
        "outputId": "887ac980-fb39-496a-d6ed-f1941a4dfe6d"
      },
      "execution_count": 10,
      "outputs": [
        {
          "output_type": "stream",
          "name": "stdout",
          "text": [
            "prediction_count: [-1.01387785 -1.02083274 -0.98605829 ...  0.41816699  1.18651668\n",
            "  0.45128551]\n",
            "casual_prediction: [ 0.9844937   0.19296105 -0.95293977 ... -0.42966714 -0.50252789\n",
            " -0.94631607]\n",
            "registered_prediction: [-0.6835758  -0.5157753   0.18633735 ... -0.33693528 -0.39654862\n",
            "  1.74953153]\n"
          ]
        }
      ]
    },
    {
      "cell_type": "code",
      "source": [
        "# RMS calculation\n",
        "val1 = np.sqrt(mean_squared_error(y_test,prediction_count))\n",
        "val2 = np.sqrt(mean_squared_error(casual_test,casual_prediction))\n",
        "val3 = np.sqrt(mean_squared_error(registered_test,registered_prediction))\n",
        "print(\"Root Mean Sqaured Error -- Count Prediction:\",val1)\n",
        "print(\"Root Mean Sqaured Error -- casual drivers Prediction:\",val2)\n",
        "print(\"Root Mean Sqaured Error -- Registered drivers Prediction:\",val3)\n"
      ],
      "metadata": {
        "colab": {
          "base_uri": "https://localhost:8080/"
        },
        "id": "hCKSFiek2YNa",
        "outputId": "5bfc8bdf-3345-4667-f0c5-f74cad1a9774"
      },
      "execution_count": 11,
      "outputs": [
        {
          "output_type": "stream",
          "name": "stdout",
          "text": [
            "Root Mean Sqaured Error -- Count Prediction: 0.7502571816889003\n",
            "Root Mean Sqaured Error -- casual drivers Prediction: 1.0837614387820613\n",
            "Root Mean Sqaured Error -- Registered drivers Prediction: 0.9686861481740092\n"
          ]
        }
      ]
    },
    {
      "cell_type": "code",
      "source": [
        "test_dataframe = pd.read_csv(data+'test_luc.csv', header=0)\n",
        "test_dataframe['month'] = pd.DatetimeIndex(test_dataframe['datetime']).month\n",
        "test_dataframe['hour'] = pd.DatetimeIndex(test_dataframe['datetime']).hour\n",
        "test_dataframe['day'] = pd.DatetimeIndex(test_dataframe['datetime']).day\n",
        "\n",
        "# fit model using whole training data set without splitting\n",
        "fit_model( dataframe[columns], dataframe['count'])\n",
        "fit_model( dataframe[columns], dataframe['casual'])\n",
        "fit_model( dataframe[columns], dataframe['registered'])\n",
        "\n",
        "#predict on test data using trained model\n",
        "\n",
        "count_prediction = model_prediction(test_dataframe[columns])\n",
        "casual_prediction = model_prediction(test_dataframe[columns])\n",
        "print(\"count_prediction\", count_prediction, casual_prediction)\n",
        "\n",
        "test_dataframe['count'] = count_prediction\n",
        "test_dataframe['finalcount'] = count_prediction + casual_prediction\n",
        "test_dataframe = test_dataframe[['datetime','count', 'finalcount']].to_csv('my_prediction.csv', \n",
        "    index=False, header=True)\n",
        "print(\"Done !!\")\n"
      ],
      "metadata": {
        "colab": {
          "base_uri": "https://localhost:8080/"
        },
        "id": "iKtzqGdl2hRG",
        "outputId": "4b9fc654-0aa9-4c70-8f30-e62c6dc484b3"
      },
      "execution_count": 12,
      "outputs": [
        {
          "output_type": "stream",
          "name": "stdout",
          "text": [
            "count_prediction [ 23.    18.75  14.   ...  93.   100.    50.  ] [ 23.    18.75  14.   ...  93.   100.    50.  ]\n",
            "Done !!\n"
          ]
        }
      ]
    },
    {
      "cell_type": "code",
      "source": [
        "# printing the sample of output csv\n",
        "prediction_data = pd.read_csv(\"my_prediction.csv\")\n",
        "print(prediction_data.head(5))\n",
        "len(prediction_data)\n",
        "\n",
        "print(\"completed!!!!\")"
      ],
      "metadata": {
        "colab": {
          "base_uri": "https://localhost:8080/"
        },
        "id": "LNKD5H4S23CJ",
        "outputId": "9e85c9d7-681f-46b2-9e75-4acaa0177b46"
      },
      "execution_count": 13,
      "outputs": [
        {
          "output_type": "stream",
          "name": "stdout",
          "text": [
            "              datetime      count  finalcount\n",
            "0  2011-01-17 00:00:00  23.000000   46.000000\n",
            "1  2011-01-17 01:00:00  18.750000   37.500000\n",
            "2  2011-01-17 02:00:00  14.000000   28.000000\n",
            "3  2011-01-17 03:00:00   5.000000   10.000000\n",
            "4  2011-01-17 04:00:00   4.333333    8.666667\n",
            "completed!!!!\n"
          ]
        }
      ]
    },
    {
      "cell_type": "markdown",
      "metadata": {
        "id": "0neQ6OG6SRQs"
      },
      "source": [
        " Question 2 (20 points) Build a regession model to predict the change in price of the stock overtime. It can either be linear regression or non-linear regression. You can download the dataset from here: https://github.com/suthapalliuday/INFO5502-Summer2022/blob/main/datasets/portfolio_data.csv. The implementation of the LSTM on this same dataset was posted here as an reference: https://www.kaggle.com/code/faressayah/stock-market-analysis-prediction-using-lstm/notebook"
      ]
    },
    {
      "cell_type": "markdown",
      "metadata": {
        "id": "VH0oT9HPSRQt"
      },
      "source": [
        " ### Your code"
      ]
    },
    {
      "cell_type": "code",
      "execution_count": 14,
      "metadata": {
        "id": "uxvw2AX8SRQt"
      },
      "outputs": [],
      "source": [
        "### You code here:\n",
        "\n",
        "\n"
      ]
    }
  ],
  "metadata": {
    "kernelspec": {
      "display_name": "Python 3 (ipykernel)",
      "language": "python",
      "name": "python3"
    },
    "language_info": {
      "codemirror_mode": {
        "name": "ipython",
        "version": 3
      },
      "file_extension": ".py",
      "mimetype": "text/x-python",
      "name": "python",
      "nbconvert_exporter": "python",
      "pygments_lexer": "ipython3",
      "version": "3.9.12"
    },
    "colab": {
      "name": "lab_assignment_06.ipynb",
      "provenance": [],
      "collapsed_sections": [],
      "include_colab_link": true
    }
  },
  "nbformat": 4,
  "nbformat_minor": 0
}