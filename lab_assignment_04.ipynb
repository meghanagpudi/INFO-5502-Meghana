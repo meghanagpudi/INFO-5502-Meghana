{
  "cells": [
    {
      "cell_type": "markdown",
      "metadata": {
        "id": "view-in-github",
        "colab_type": "text"
      },
      "source": [
        "<a href=\"https://colab.research.google.com/github/meghanagpudi/INFO-5502-Meghana/blob/main/lab_assignment_04.ipynb\" target=\"_parent\"><img src=\"https://colab.research.google.com/assets/colab-badge.svg\" alt=\"Open In Colab\"/></a>"
      ]
    },
    {
      "cell_type": "markdown",
      "metadata": {
        "id": "qUskUFT7_Sj1"
      },
      "source": [
        "## The fourth Lab-assignment (07/26/2022 11:59'AM' - 07/29/2022 11:59PM, 50 points in total)"
      ]
    },
    {
      "cell_type": "markdown",
      "metadata": {
        "id": "SV3wnuoi_Sj5"
      },
      "source": [
        "The purpose of this exercise is to understand Exploratory Data Analysis, we will practice the EDA by working on multiple datasets which have different characteristics."
      ]
    },
    {
      "cell_type": "markdown",
      "metadata": {
        "id": "l0fvafss_Sj5"
      },
      "source": [
        "Question 1 (10 points). Understand a text corpus for domain-specific text classification. Download the dataset from the following link: https://osf.io/8mjcy/ . Conduct EDA of the dataset from the following aspects:\n",
        "\n",
        "(1) How many categories in total?\n",
        "\n",
        "(2) How many documents under each category?\n"
      ]
    },
    {
      "cell_type": "code",
      "execution_count": null,
      "metadata": {
        "id": "5PwVTpwM_Sj6"
      },
      "outputs": [],
      "source": [
        "from google.colab import drive\n",
        "drive.mount('/content/gdrive')"
      ]
    },
    {
      "cell_type": "code",
      "source": [
        "import os\n",
        "from nltk.tokenize import sent_tokenize\n",
        "from nltk.tokenize import word_tokenize\n",
        "from nltk.corpus import PlaintextCorpusReader\n",
        "import nltk\n",
        "nltk.download('stopwords')\n",
        "nltk.download('wordnet')\n",
        "nltk.download('punkt')\n",
        "nltk.download('averaged_perceptron_tagger') \n",
        "\n",
        "#1)\n",
        "path = os.listdir(\"/content/gdrive/My Drive/preprocessed_cases[cases_29404]\")\n",
        "print('{} categories are present'.format(len(path)))\n",
        "\n",
        "#2)\n",
        "for i in path:\n",
        "  documents = os.listdir(\"/content/gdrive/My Drive/preprocessed_cases[cases_29404]/{}\".format((i)))\n",
        "  print('In file {} we have {} documents'.format(i,len(documents)))"
      ],
      "metadata": {
        "id": "MaUDrEtrBRQ7"
      },
      "execution_count": null,
      "outputs": []
    },
    {
      "cell_type": "markdown",
      "metadata": {
        "id": "5QjrJe0x_Sj7"
      },
      "source": [
        "Question 2 (40 points). Continue practicing how to do simple exploratory data analysis with Python. The dataset that has been used in this question is called Student Academics Performance Data Set, which can be downloaded at: https://github.com/suthapalliuday/INFO5502-Summer2022/blob/main/datasets/lab-assignment-04-student-performance.csv . Please conduct the following analysis:\n",
        "\n",
        "(1) Description of all the columns: for each colmun, count number of rows, number of unqiue element, the frequency of each unqiue element. \n",
        "\n",
        "\n",
        "(2)  Visualize the count for each value in the 'Study Hours' column. Note: Study Hours values comes from this >= 6 hours Good >= 4 hours Average < 2 hours Poor.\n",
        "\n",
        "(3) Using factorplot to show the relationship between numerical and categorical value. Please use figure to show relation between [Study Hours] and [End Semester Percentage]. Percentage is calculated based on the following:\n",
        "\n",
        "if percentage >=80 then Best\n",
        "If percentage >= 60 but less than 80 then Very Good\n",
        "If percentage >= 45 but less than 60 then Good\n",
        "If Percentage >= 30 but less than 45 then Pass\n",
        "If Percentage < 30 then Fail\n",
        "\n",
        "(4) Get the correlation from the data, then plug it to heatmap function and show it as following:\n",
        "\n"
      ]
    },
    {
      "cell_type": "markdown",
      "metadata": {
        "id": "V-Qc4ehf_Sj7"
      },
      "source": [
        "# Your answer here (code + explanation):\n",
        "\n",
        "\n",
        "\n",
        "\n",
        "\n",
        "\n"
      ]
    },
    {
      "cell_type": "code",
      "source": [
        "# 1.)\n",
        "import pandas as pd\n",
        "url = 'https://github.com/suthapalliuday/INFO5502-Summer2022/blob/main/datasets/lab-assignment-04-student-performance.csv'\n",
        "# reading data from git\n",
        "df = pd.read_csv(url)\n",
        "# we loop through each file and print the following details\n",
        "for col in df.columns:\n",
        "    print(\"Column:\",col)\n",
        "    print(\"The number of rows are:\", df[col].shape[0])\n",
        "    print(\"The number of unique values in this column are:\", df[col].value_counts().shape[0])\n",
        "    print(df[col].value_counts())\n",
        "    print()"
      ],
      "metadata": {
        "id": "EWjhoMhiEV9y"
      },
      "execution_count": null,
      "outputs": []
    },
    {
      "cell_type": "code",
      "source": [
        "from google.colab import drive\n",
        "drive.mount('/content/drive')"
      ],
      "metadata": {
        "id": "sH5RZddzQ_yq"
      },
      "execution_count": null,
      "outputs": []
    },
    {
      "cell_type": "code",
      "source": [
        "# 2.)\n",
        "import seaborn as sns\n",
        "import matplotlib.pyplot as plt\n",
        "%matplotlib inline\n",
        "sns.countplot(df['sh'])\n",
        "plt.xlabel(\"Study Hours\")\n",
        "plt.ylabel(\"Count\")\n",
        "plt.show()"
      ],
      "metadata": {
        "id": "azqV1XPLCdlZ"
      },
      "execution_count": null,
      "outputs": []
    },
    {
      "cell_type": "code",
      "source": [
        "# 3.)\n",
        "import pandas as pd\n",
        "import seaborn as sb\n",
        "from matplotlib import pyplot as plt\n",
        "facplo = pd.DataFrame()\n",
        "facplo['Study']=pd.DataFrame(df.sh)\n",
        "facplo['esp']=pd.DataFrame(df.esp)\n",
        "facplo['esp'].mask(facplo['esp'] == 'Best', 80, inplace=True)\n",
        "facplo['esp'].mask(facplo['esp'] == 'Vg', 60, inplace=True)\n",
        "facplo['esp'].mask(facplo['esp'] == 'Good', 45, inplace=True)\n",
        "facplo['esp'].mask(facplo['esp'] == 'Pass', 30, inplace=True)\n",
        "facplo['esp'].mask(facplo['esp'] == 'Fail', 30, inplace=True)\n",
        "facplo['exampercent']=pd.DataFrame(df.esp)\n",
        "sns.factorplot(x='Study',y='esp', kind = 'strip',data=facplo)\n",
        "plt.show()"
      ],
      "metadata": {
        "id": "8G437nLyCo3D"
      },
      "execution_count": null,
      "outputs": []
    },
    {
      "cell_type": "code",
      "source": [
        "# 4.)\n",
        "# Import label encoder \n",
        "from sklearn import preprocessing\n",
        "import seaborn as sns\n",
        "label_encoder = preprocessing.LabelEncoder()  \n",
        "def Encoder(df):\n",
        "    columnsToEncode = list(df.select_dtypes(include=['category','object']))\n",
        "    le = preprocessing.LabelEncoder()\n",
        "    # we convert categorical columns data into numerical data\n",
        "    for feature in columnsToEncode:\n",
        "        try:\n",
        "            df[feature] = le.fit_transform(df[feature])\n",
        "        except:\n",
        "            print('Error encoding '+feature)\n",
        "    return df\n",
        "\n",
        "facplo = Encoder(df)\n",
        "# we drop the ms column\n",
        "facplo = facplo.drop('ms', axis = 1)\n",
        "\n",
        "# we get the correlation data\n",
        "correlation = facplo.corr()\n",
        "sns.set(rc = {'figure.figsize':(20,10)})\n",
        "sns.heatmap(correlation,annot=True)\n",
        "plt.show()"
      ],
      "metadata": {
        "id": "eHQWw4h2DQql"
      },
      "execution_count": null,
      "outputs": []
    }
  ],
  "metadata": {
    "kernelspec": {
      "display_name": "Python 3 (ipykernel)",
      "language": "python",
      "name": "python3"
    },
    "language_info": {
      "codemirror_mode": {
        "name": "ipython",
        "version": 3
      },
      "file_extension": ".py",
      "mimetype": "text/x-python",
      "name": "python",
      "nbconvert_exporter": "python",
      "pygments_lexer": "ipython3",
      "version": "3.9.12"
    },
    "colab": {
      "name": "lab_assignment_04.ipynb",
      "provenance": [],
      "collapsed_sections": [],
      "include_colab_link": true
    }
  },
  "nbformat": 4,
  "nbformat_minor": 0
}