{
  "cells": [
    {
      "cell_type": "markdown",
      "metadata": {
        "id": "view-in-github",
        "colab_type": "text"
      },
      "source": [
        "<a href=\"https://colab.research.google.com/github/meghanagpudi/INFO-5502-Meghana/blob/main/lab_assignment_06.ipynb\" target=\"_parent\"><img src=\"https://colab.research.google.com/assets/colab-badge.svg\" alt=\"Open In Colab\"/></a>"
      ]
    },
    {
      "cell_type": "markdown",
      "metadata": {
        "id": "qZEDqcs3SRQS"
      },
      "source": [
        "## The sixth Lab-assignment (08/02/2022 11:59'AM' - 08/05/2022 11:59PM, 50 points in total)"
      ]
    },
    {
      "cell_type": "markdown",
      "metadata": {
        "id": "p4Wh-D5lSRQc"
      },
      "source": [
        "The purpose of this exercise is to build a simple predicition model which can helpyou understand the workflow of machine learning. "
      ]
    },
    {
      "cell_type": "markdown",
      "metadata": {
        "id": "iTg0B8WlSRQd"
      },
      "source": [
        "### Q1 Task Decription (50 Points)"
      ]
    },
    {
      "cell_type": "markdown",
      "metadata": {
        "id": "Z_n8p9IESRQe"
      },
      "source": [
        "The goal of this assignment is to predict bike share use, given the hour, day, and information about the weather. Companies like Divvy try to predict how much demand there will be for bikes on any given day to allocate resources to redistribute bikes so that, ideally, very few bike stations are ever full (when you can’t park your bike) or empty (when you can’t pick up a bike if you want to).\n",
        "\n",
        "The data (link: https://github.com/suthapalliuday/INFO5502-Summer2022/tree/main/datasets/lab_assignment_06) in Github provides detailed information on the data set and necessary downloads."
      ]
    },
    {
      "cell_type": "markdown",
      "metadata": {
        "id": "yeL7tivgSRQf"
      },
      "source": [
        "### Data Description"
      ]
    },
    {
      "cell_type": "markdown",
      "metadata": {
        "id": "7_qot6yuSRQg"
      },
      "source": [
        "You are provided hourly rental data spanning two years (link: https://github.com/suthapalliuday/INFO5502-Summer2022/tree/main/datasets/lab_assignment_06). For this task, the training set is comprised of the first 16 days of each month, while the test set is the 17-19th day of the month. You must predict the total count of bikes rented during each hour covered by the test set, using only information available prior to the rental period. That is, predict \"count\" without using \"count\" or its components \"casual\" and \"registered\".\n",
        "\n",
        "Data Fields\n",
        "\n",
        "datetime - hourly date + timestamp\n",
        "\n",
        "season - 1 = spring, 2 = summer, 3 = fall, 4 = winter\n",
        "\n",
        "holiday - whether the day is considered a holiday\n",
        "\n",
        "workingday - whether the day is neither a weekend nor holiday\n",
        "\n",
        "weather -\n",
        "\n",
        "1 - Clear, Few clouds, Partly cloudy, Partly cloudy\n",
        "\n",
        "2 - Mist + Cloudy, Mist + Broken clouds, Mist + Few clouds, Mist\n",
        "\n",
        "3 - Light Snow, Light Rain + Thunderstorm + Scattered clouds, Light Rain + Scattered clouds\n",
        "\n",
        "4 - Heavy Rain + Ice Pallets + Thunderstorm + Mist, Snow + Fog\n",
        "\n",
        "temp - temperature in Celsius\n",
        "\n",
        "atemp - \"feels like\" temperature in Celsius\n",
        "\n",
        "humidity - relative humidity\n",
        "\n",
        "windspeed - wind speed\n",
        "\n",
        "casual - number of non-registered user rentals initiated\n",
        "\n",
        "registered - number of registered user rentals initiated\n",
        "\n",
        "count - number of total rentals"
      ]
    },
    {
      "cell_type": "markdown",
      "metadata": {
        "id": "nw6dco2bSRQj"
      },
      "source": [
        "### Output"
      ]
    },
    {
      "cell_type": "markdown",
      "metadata": {
        "id": "3Sedm6mTSRQk"
      },
      "source": [
        "Submission Format\n",
        "\n",
        "Your output (a separate file) must have a header line and should be structured in the following format:\n",
        "\n",
        " datetime,count\n",
        " \n",
        " 2011-01-20 00:00:00,0 \n",
        " \n",
        " 2011-01-20 01:00:00,0\n",
        " \n",
        " 2011-01-20 02:00:00,0\n",
        " \n",
        " ...\n",
        " \n",
        "The tutorial code should demonstrate how to generate such a file from a very simple prediction model. Note, these prediction are to be done on the test file under the data tab, where you do not know the actual count, and should match the rows of the test file in count and order.\n",
        "\n",
        "Your predictions should be compared to the ground truth information (sample_prediction.csv). Score are calculated using Root Mean Squared Error (RMSE)."
      ]
    },
    {
      "cell_type": "markdown",
      "metadata": {
        "id": "bAVqGYOzSRQm"
      },
      "source": [
        "### Tips"
      ]
    },
    {
      "cell_type": "markdown",
      "metadata": {
        "id": "-MQO_BsDSRQn"
      },
      "source": [
        "●\tAdd features: Pick columns/features from the data you already have. Or make a new feature from the ones you have. For example, the tutorial makes ‘hour’ from the datetime stamp, which seemed very useful. How about ‘month’?\n",
        "\n",
        "●\tModel selection: Try different models. Make sure they are regression models rather than classification models. Tip: random forest regression is a good, all around modeling strategy on complicated data sets.\n",
        "\n",
        "●\tModel tuning: Almost all regression models have parameters to tune (“hyperparameters”). E.g. polynomial regression has the degree of the polynomial (n = 1 for a line, n=2 for a quadratic fit, n=3 for a cubic fit…). Generally, one extreme makes the model too simple (e.g. a line for a curved set of points) and the other extreme makes the model overfit/be too complex, and usually the right choice is in between. For some models it is obvious what to tune (e.g. k for k nearest neighbors regression) and some don’t need much tuning with defaults that often work well. e.g. try changing the number of trees used in the random forest model!\n",
        "\n",
        "●\tCross validation: The tutorial has a simple way of separating training and test data, however, there are better ways of splitting training and test data. Look into cross validation techniques, which are more reliable than an arbitrary split of training and test data.\n",
        "\n",
        "●\tSeparate models for ...: Notice that count comes from just adding casual riders and registered riders. However, what if these two types of riders acted very differently? It might make sense to make two separate models and just add the results of both models together. This is also true for any subsets of your data that may behave wildly differently (e.g. create a separate model for each season?)"
      ]
    },
    {
      "cell_type": "markdown",
      "metadata": {
        "id": "35yowq-vSRQp"
      },
      "source": [
        "### Your code"
      ]
    },
    {
      "cell_type": "code",
      "source": [
        "import pandas as pd\n",
        "import numpy as np\n",
        "import matplotlib.pyplot as plot\n",
        "\n",
        "data = \"https://raw.githubusercontent.com/suthapalliuday/INFO5502-Summer2022/main/datasets/lab_assignment_06/\"\n",
        "dataframe = pd.read_csv(data+'train_luc.csv', header=0)\n",
        "def data_Extraction():\n",
        "    \n",
        "    dataframe['day'] = pd.DatetimeIndex(dataframe['datetime']).day\n",
        "    dataframe['month']=pd.DatetimeIndex(dataframe['datetime']).month\n",
        "    dataframe['hour']=pd.DatetimeIndex(dataframe['datetime']).hour\n",
        "    dataframe['year']=pd.DatetimeIndex(dataframe['datetime']).year\n",
        "\n",
        "    print(dataframe.head(5))\n",
        "\n",
        "data_Extraction()"
      ],
      "metadata": {
        "colab": {
          "base_uri": "https://localhost:8080/"
        },
        "id": "1SUZpLgF1I4Q",
        "outputId": "60fe2b11-2522-4432-bf26-76395a2680a8"
      },
      "execution_count": null,
      "outputs": [
        {
          "output_type": "stream",
          "name": "stdout",
          "text": [
            "              datetime  season  holiday  workingday  weather  temp   atemp  \\\n",
            "0  2011-01-01 00:00:00       1        0           0        1  9.84  14.395   \n",
            "1  2011-01-01 01:00:00       1        0           0        1  9.02  13.635   \n",
            "2  2011-01-01 02:00:00       1        0           0        1  9.02  13.635   \n",
            "3  2011-01-01 03:00:00       1        0           0        1  9.84  14.395   \n",
            "4  2011-01-01 04:00:00       1        0           0        1  9.84  14.395   \n",
            "\n",
            "   humidity  windspeed  casual  registered  count  day  month  hour  year  \n",
            "0        81        0.0       3          13     16    1      1     0  2011  \n",
            "1        80        0.0       8          32     40    1      1     1  2011  \n",
            "2        80        0.0       5          27     32    1      1     2  2011  \n",
            "3        75        0.0       3          10     13    1      1     3  2011  \n",
            "4        75        0.0       0           1      1    1      1     4  2011  \n"
          ]
        }
      ]
    },
    {
      "cell_type": "code",
      "source": [
        "def hour_level_usage():\n",
        "    hours = np.unique(dataframe['hour'])\n",
        "    avg_usage_per_hour = {}\n",
        "    for hour in hours:\n",
        "        df1 = dataframe.loc[dataframe['hour'] == hour]\n",
        "        avg_usage_per_hour[hour] = df1['count'].mean()\n",
        "    hours = list(avg_usage_per_hour.keys())\n",
        "    bike_usage = list(avg_usage_per_hour.values())\n",
        "    plot.xlabel(\"hour\")\n",
        "    plot.ylabel(\"avg bikes used per hour\")\n",
        "    plot.title(\"Data across last 2 years\")\n",
        "    plot.bar(hours,bike_usage, color='green')\n",
        "hour_level_usage()"
      ],
      "metadata": {
        "colab": {
          "base_uri": "https://localhost:8080/",
          "height": 295
        },
        "id": "rQH8JcAy1YrK",
        "outputId": "1e46bcc8-80a8-417f-dae5-428d750814b6"
      },
      "execution_count": null,
      "outputs": [
        {
          "output_type": "display_data",
          "data": {
            "text/plain": [
              "<Figure size 432x288 with 1 Axes>"
            ],
            "image/png": "[encoded data removed]"
          },
          "metadata": {
            "needs_background": "light"
          }
        }
      ]
    },
    {
      "cell_type": "code",
      "source": [
        "def season_level_usage():\n",
        "    seasons = np.unique(dataframe['season'])\n",
        "    print(\"seasons:\",seasons)\n",
        "    avg_usage_per_season = {}\n",
        "    for season in seasons:\n",
        "        df2 = dataframe.loc[dataframe['season'] == season]\n",
        "        avg_usage_per_season[season] = df2['count'].mean()\n",
        "    bike_usage_per_season = list(avg_usage_per_season.values())\n",
        "    plot.xlabel(\"season\")\n",
        "    plot.ylabel(\"avg no of bikes used\")\n",
        "    plot.title(\"Data across last 2 years\")\n",
        "    plot.bar(seasons, bike_usage_per_season, color=\"yellow\")\n",
        "    \n",
        "season_level_usage()"
      ],
      "metadata": {
        "colab": {
          "base_uri": "https://localhost:8080/",
          "height": 312
        },
        "id": "waSpxUiC1faN",
        "outputId": "68e497fb-4c86-495c-a3ae-c8360bb8d749"
      },
      "execution_count": null,
      "outputs": [
        {
          "output_type": "stream",
          "name": "stdout",
          "text": [
            "seasons: [1 2 3 4]\n"
          ]
        },
        {
          "output_type": "display_data",
          "data": {
            "text/plain": [
              "<Figure size 432x288 with 1 Axes>"
            ],
            "image/png": "[encoded data removed]"
          },
          "metadata": {
            "needs_background": "light"
          }
        }
      ]
    },
    {
      "cell_type": "code",
      "source": [
        "def monthly_bike_usage():\n",
        "    months = np.unique(dataframe['month'])\n",
        "    avg_usage_per_month = {}\n",
        "    for month in months:\n",
        "        df1 = dataframe.loc[dataframe[\"month\"] == month]\n",
        "        avg_usage_per_month[month] = df1['count'].mean()\n",
        "    plot.xlabel(\"month\")\n",
        "    plot.ylabel(\"Avg Bikes Used\")\n",
        "    plot.title(\"Data across last 2 years\")\n",
        "    plot.bar(months,list(avg_usage_per_month.values()), color='black')\n",
        "    \n",
        "monthly_bike_usage()"
      ],
      "metadata": {
        "colab": {
          "base_uri": "https://localhost:8080/",
          "height": 295
        },
        "id": "f4m-BDjI1k__",
        "outputId": "81bc11c7-0398-44ad-b5e6-0a4e418b58bf"
      },
      "execution_count": null,
      "outputs": [
        {
          "output_type": "display_data",
          "data": {
            "text/plain": [
              "<Figure size 432x288 with 1 Axes>"
            ],
            "image/png": "[encoded data removed]"
          },
          "metadata": {
            "needs_background": "light"
          }
        }
      ]
    },
    {
      "cell_type": "code",
      "source": [
        "columns = [\"day\",\"hour\",\"month\",\"season\",] \n",
        "from sklearn.ensemble import RandomForestRegressor\n",
        "from sklearn.model_selection import KFold as cross_validate\n",
        "from sklearn.metrics import mean_squared_error\n",
        "from sklearn import preprocessing\n",
        "from sklearn.model_selection import train_test_split\n",
        "from sklearn.metrics import mean_squared_error\n",
        "\n",
        "#using randomforest model as per assignment\n",
        "\n",
        "regression_model = RandomForestRegressor(n_estimators = 1)\n",
        "cross_validation = cross_validate(n_splits=3, shuffle=True)\n",
        "cross_validation.get_n_splits()\n",
        "cross_validation.split(dataframe)"
      ],
      "metadata": {
        "colab": {
          "base_uri": "https://localhost:8080/"
        },
        "id": "Gq9FK1Mn1tSZ",
        "outputId": "7fea952e-5e2e-40aa-b466-59cc0396ce59"
      },
      "execution_count": null,
      "outputs": [
        {
          "output_type": "execute_result",
          "data": {
            "text/plain": [
              "<generator object _BaseKFold.split at 0x7f099ec3ced0>"
            ]
          },
          "metadata": {},
          "execution_count": 6
        }
      ]
    },
    {
      "cell_type": "code",
      "source": [
        "# common methods for future usage\n",
        "def fit_model(x, y):\n",
        "  regression_model.fit(x,y)\n",
        "def model_prediction(x):\n",
        "  return regression_model.predict(x)\n",
        "def rms(x,y):\n",
        "  val = np.sqrt(mean_squared_error(x,y))\n",
        "  return val"
      ],
      "metadata": {
        "id": "ffMVrR_415I8"
      },
      "execution_count": null,
      "outputs": []
    },
    {
      "cell_type": "code",
      "source": [
        "# preprocessing data for test train data split\n",
        "X, y, casual_drivers ,registered_drivers = dataframe[columns], dataframe['count'].values, dataframe['casual'].values, dataframe['registered'].values\n",
        "X,y,casual_drivers, registered_drivers = preprocessing.scale(X) ,preprocessing.scale(y) ,preprocessing.scale(casual_drivers), preprocessing.scale(registered_drivers)  \n",
        "\n",
        "#splitting data to test and training using train_test_split\n",
        "X_train_casual,X_test_casual,casual_train,casual_test = train_test_split(X,casual_drivers,test_size=0.2)\n",
        "X_train_registered,X_test_registered,registered_train,registered_test = train_test_split(X,registered_drivers,test_size=0.2)\n",
        "\n",
        "for train_index, test_index in cross_validation.split(X):\n",
        "    X_train, X_test = X[train_index], X[test_index]\n",
        "    y_train, y_test = y[train_index], y[test_index]"
      ],
      "metadata": {
        "id": "u9mK6VBB2JyB"
      },
      "execution_count": null,
      "outputs": []
    },
    {
      "cell_type": "code",
      "source": [
        "# Get prediction values using RandomForest Regression model\n",
        "fit_model(X_train, y_train)\n",
        "fit_model(X_train_casual, casual_train)\n",
        "fit_model(X_train_registered, registered_train)\n",
        "\n",
        "# predict on the testing subset of the original training data\n",
        "prediction_count = model_prediction(X_test)\n",
        "casual_prediction = model_prediction(X_test_casual)\n",
        "registered_prediction = model_prediction(X_test_registered)\n",
        "\n",
        "print(\"prediction_count:\", prediction_count)\n",
        "print(\"casual_prediction:\", casual_prediction)\n",
        "print(\"registered_prediction:\", registered_prediction)"
      ],
      "metadata": {
        "colab": {
          "base_uri": "https://localhost:8080/"
        },
        "id": "pcMrfkok2Q1C",
        "outputId": "887ac980-fb39-496a-d6ed-f1941a4dfe6d"
      },
      "execution_count": null,
      "outputs": [
        {
          "output_type": "stream",
          "name": "stdout",
          "text": [
            "prediction_count: [-1.01387785 -1.02083274 -0.98605829 ...  0.41816699  1.18651668\n",
            "  0.45128551]\n",
            "casual_prediction: [ 0.9844937   0.19296105 -0.95293977 ... -0.42966714 -0.50252789\n",
            " -0.94631607]\n",
            "registered_prediction: [-0.6835758  -0.5157753   0.18633735 ... -0.33693528 -0.39654862\n",
            "  1.74953153]\n"
          ]
        }
      ]
    },
    {
      "cell_type": "code",
      "source": [
        "# RMS calculation\n",
        "val1 = np.sqrt(mean_squared_error(y_test,prediction_count))\n",
        "val2 = np.sqrt(mean_squared_error(casual_test,casual_prediction))\n",
        "val3 = np.sqrt(mean_squared_error(registered_test,registered_prediction))\n",
        "print(\"Root Mean Sqaured Error -- Count Prediction:\",val1)\n",
        "print(\"Root Mean Sqaured Error -- casual drivers Prediction:\",val2)\n",
        "print(\"Root Mean Sqaured Error -- Registered drivers Prediction:\",val3)\n"
      ],
      "metadata": {
        "colab": {
          "base_uri": "https://localhost:8080/"
        },
        "id": "hCKSFiek2YNa",
        "outputId": "5bfc8bdf-3345-4667-f0c5-f74cad1a9774"
      },
      "execution_count": null,
      "outputs": [
        {
          "output_type": "stream",
          "name": "stdout",
          "text": [
            "Root Mean Sqaured Error -- Count Prediction: 0.7502571816889003\n",
            "Root Mean Sqaured Error -- casual drivers Prediction: 1.0837614387820613\n",
            "Root Mean Sqaured Error -- Registered drivers Prediction: 0.9686861481740092\n"
          ]
        }
      ]
    },
    {
      "cell_type": "code",
      "source": [
        "test_dataframe = pd.read_csv(data+'test_luc.csv', header=0)\n",
        "test_dataframe['month'] = pd.DatetimeIndex(test_dataframe['datetime']).month\n",
        "test_dataframe['hour'] = pd.DatetimeIndex(test_dataframe['datetime']).hour\n",
        "test_dataframe['day'] = pd.DatetimeIndex(test_dataframe['datetime']).day\n",
        "\n",
        "# fit model using whole training data set without splitting\n",
        "fit_model( dataframe[columns], dataframe['count'])\n",
        "fit_model( dataframe[columns], dataframe['casual'])\n",
        "fit_model( dataframe[columns], dataframe['registered'])\n",
        "\n",
        "#predict on test data using trained model\n",
        "\n",
        "count_prediction = model_prediction(test_dataframe[columns])\n",
        "casual_prediction = model_prediction(test_dataframe[columns])\n",
        "print(\"count_prediction\", count_prediction, casual_prediction)\n",
        "\n",
        "test_dataframe['count'] = count_prediction\n",
        "test_dataframe['finalcount'] = count_prediction + casual_prediction\n",
        "test_dataframe = test_dataframe[['datetime','count', 'finalcount']].to_csv('my_prediction.csv', \n",
        "    index=False, header=True)\n",
        "print(\"Done !!\")\n"
      ],
      "metadata": {
        "colab": {
          "base_uri": "https://localhost:8080/"
        },
        "id": "iKtzqGdl2hRG",
        "outputId": "4b9fc654-0aa9-4c70-8f30-e62c6dc484b3"
      },
      "execution_count": null,
      "outputs": [
        {
          "output_type": "stream",
          "name": "stdout",
          "text": [
            "count_prediction [ 23.    18.75  14.   ...  93.   100.    50.  ] [ 23.    18.75  14.   ...  93.   100.    50.  ]\n",
            "Done !!\n"
          ]
        }
      ]
    },
    {
      "cell_type": "code",
      "source": [
        "# printing the sample of output csv\n",
        "prediction_data = pd.read_csv(\"my_prediction.csv\")\n",
        "print(prediction_data.head(5))\n",
        "len(prediction_data)\n",
        "\n",
        "print(\"completed!!!!\")"
      ],
      "metadata": {
        "colab": {
          "base_uri": "https://localhost:8080/"
        },
        "id": "LNKD5H4S23CJ",
        "outputId": "9e85c9d7-681f-46b2-9e75-4acaa0177b46"
      },
      "execution_count": null,
      "outputs": [
        {
          "output_type": "stream",
          "name": "stdout",
          "text": [
            "              datetime      count  finalcount\n",
            "0  2011-01-17 00:00:00  23.000000   46.000000\n",
            "1  2011-01-17 01:00:00  18.750000   37.500000\n",
            "2  2011-01-17 02:00:00  14.000000   28.000000\n",
            "3  2011-01-17 03:00:00   5.000000   10.000000\n",
            "4  2011-01-17 04:00:00   4.333333    8.666667\n",
            "completed!!!!\n"
          ]
        }
      ]
    },
    {
      "cell_type": "markdown",
      "metadata": {
        "id": "0neQ6OG6SRQs"
      },
      "source": [
        " Question 2 (20 points) Build a regession model to predict the change in price of the stock overtime. It can either be linear regression or non-linear regression. You can download the dataset from here: https://github.com/suthapalliuday/INFO5502-Summer2022/blob/main/datasets/portfolio_data.csv. The implementation of the LSTM on this same dataset was posted here as an reference: https://www.kaggle.com/code/faressayah/stock-market-analysis-prediction-using-lstm/notebook"
      ]
    },
    {
      "cell_type": "markdown",
      "metadata": {
        "id": "VH0oT9HPSRQt"
      },
      "source": [
        " ### Your code"
      ]
    },
    {
      "cell_type": "code",
      "execution_count": 4,
      "metadata": {
        "id": "uxvw2AX8SRQt",
        "colab": {
          "base_uri": "https://localhost:8080/",
          "height": 424
        },
        "outputId": "4056d4be-8495-42d1-ac0e-911e0e1ad9ae"
      },
      "outputs": [
        {
          "output_type": "execute_result",
          "data": {
            "text/plain": [
              "           Date         AMZN         DPZ          BTC        NFLX\n",
              "0      5/1/2013   248.229996   51.190983   106.250000   30.415714\n",
              "1      5/2/2013   252.550003   51.987320    98.099998   30.641428\n",
              "2      5/3/2013   258.049988   52.446388   112.900002   30.492857\n",
              "3      5/6/2013   255.720001   53.205257   109.599998   30.098572\n",
              "4      5/7/2013   257.730011   54.151505   113.199997   29.464285\n",
              "...         ...          ...         ...          ...         ...\n",
              "1515   5/8/2019  1917.770020  283.149994  6171.959961  364.369995\n",
              "1516   5/9/2019  1899.869995  282.160004  6358.290039  362.750000\n",
              "1517  5/10/2019  1889.979980  278.369995  7191.359863  361.040009\n",
              "1518  5/13/2019  1822.680054  273.880005  7980.129883  345.260010\n",
              "1519  5/14/2019  1840.119995  272.859985  8183.830078  345.609985\n",
              "\n",
              "[1520 rows x 5 columns]"
            ],
            "text/html": [
              "\n",
              "  <div id=\"df-dd8bab2f-b095-4c7a-8efb-0d182b7c2404\">\n",
              "    <div class=\"colab-df-container\">\n",
              "      <div>\n",
              "<style scoped>\n",
              "    .dataframe tbody tr th:only-of-type {\n",
              "        vertical-align: middle;\n",
              "    }\n",
              "\n",
              "    .dataframe tbody tr th {\n",
              "        vertical-align: top;\n",
              "    }\n",
              "\n",
              "    .dataframe thead th {\n",
              "        text-align: right;\n",
              "    }\n",
              "</style>\n",
              "<table border=\"1\" class=\"dataframe\">\n",
              "  <thead>\n",
              "    <tr style=\"text-align: right;\">\n",
              "      <th></th>\n",
              "      <th>Date</th>\n",
              "      <th>AMZN</th>\n",
              "      <th>DPZ</th>\n",
              "      <th>BTC</th>\n",
              "      <th>NFLX</th>\n",
              "    </tr>\n",
              "  </thead>\n",
              "  <tbody>\n",
              "    <tr>\n",
              "      <th>0</th>\n",
              "      <td>5/1/2013</td>\n",
              "      <td>248.229996</td>\n",
              "      <td>51.190983</td>\n",
              "      <td>106.250000</td>\n",
              "      <td>30.415714</td>\n",
              "    </tr>\n",
              "    <tr>\n",
              "      <th>1</th>\n",
              "      <td>5/2/2013</td>\n",
              "      <td>252.550003</td>\n",
              "      <td>51.987320</td>\n",
              "      <td>98.099998</td>\n",
              "      <td>30.641428</td>\n",
              "    </tr>\n",
              "    <tr>\n",
              "      <th>2</th>\n",
              "      <td>5/3/2013</td>\n",
              "      <td>258.049988</td>\n",
              "      <td>52.446388</td>\n",
              "      <td>112.900002</td>\n",
              "      <td>30.492857</td>\n",
              "    </tr>\n",
              "    <tr>\n",
              "      <th>3</th>\n",
              "      <td>5/6/2013</td>\n",
              "      <td>255.720001</td>\n",
              "      <td>53.205257</td>\n",
              "      <td>109.599998</td>\n",
              "      <td>30.098572</td>\n",
              "    </tr>\n",
              "    <tr>\n",
              "      <th>4</th>\n",
              "      <td>5/7/2013</td>\n",
              "      <td>257.730011</td>\n",
              "      <td>54.151505</td>\n",
              "      <td>113.199997</td>\n",
              "      <td>29.464285</td>\n",
              "    </tr>\n",
              "    <tr>\n",
              "      <th>...</th>\n",
              "      <td>...</td>\n",
              "      <td>...</td>\n",
              "      <td>...</td>\n",
              "      <td>...</td>\n",
              "      <td>...</td>\n",
              "    </tr>\n",
              "    <tr>\n",
              "      <th>1515</th>\n",
              "      <td>5/8/2019</td>\n",
              "      <td>1917.770020</td>\n",
              "      <td>283.149994</td>\n",
              "      <td>6171.959961</td>\n",
              "      <td>364.369995</td>\n",
              "    </tr>\n",
              "    <tr>\n",
              "      <th>1516</th>\n",
              "      <td>5/9/2019</td>\n",
              "      <td>1899.869995</td>\n",
              "      <td>282.160004</td>\n",
              "      <td>6358.290039</td>\n",
              "      <td>362.750000</td>\n",
              "    </tr>\n",
              "    <tr>\n",
              "      <th>1517</th>\n",
              "      <td>5/10/2019</td>\n",
              "      <td>1889.979980</td>\n",
              "      <td>278.369995</td>\n",
              "      <td>7191.359863</td>\n",
              "      <td>361.040009</td>\n",
              "    </tr>\n",
              "    <tr>\n",
              "      <th>1518</th>\n",
              "      <td>5/13/2019</td>\n",
              "      <td>1822.680054</td>\n",
              "      <td>273.880005</td>\n",
              "      <td>7980.129883</td>\n",
              "      <td>345.260010</td>\n",
              "    </tr>\n",
              "    <tr>\n",
              "      <th>1519</th>\n",
              "      <td>5/14/2019</td>\n",
              "      <td>1840.119995</td>\n",
              "      <td>272.859985</td>\n",
              "      <td>8183.830078</td>\n",
              "      <td>345.609985</td>\n",
              "    </tr>\n",
              "  </tbody>\n",
              "</table>\n",
              "<p>1520 rows × 5 columns</p>\n",
              "</div>\n",
              "      <button class=\"colab-df-convert\" onclick=\"convertToInteractive('df-dd8bab2f-b095-4c7a-8efb-0d182b7c2404')\"\n",
              "              title=\"Convert this dataframe to an interactive table.\"\n",
              "              style=\"display:none;\">\n",
              "        \n",
              "  <svg xmlns=\"http://www.w3.org/2000/svg\" height=\"24px\"viewBox=\"0 0 24 24\"\n",
              "       width=\"24px\">\n",
              "    <path d=\"M0 0h24v24H0V0z\" fill=\"none\"/>\n",
              "    <path d=\"M18.56 5.44l.94 2.06.94-2.06 2.06-.94-2.06-.94-.94-2.06-.94 2.06-2.06.94zm-11 1L8.5 8.5l.94-2.06 2.06-.94-2.06-.94L8.5 2.5l-.94 2.06-2.06.94zm10 10l.94 2.06.94-2.06 2.06-.94-2.06-.94-.94-2.06-.94 2.06-2.06.94z\"/><path d=\"M17.41 7.96l-1.37-1.37c-.4-.4-.92-.59-1.43-.59-.52 0-1.04.2-1.43.59L10.3 9.45l-7.72 7.72c-.78.78-.78 2.05 0 2.83L4 21.41c.39.39.9.59 1.41.59.51 0 1.02-.2 1.41-.59l7.78-7.78 2.81-2.81c.8-.78.8-2.07 0-2.86zM5.41 20L4 18.59l7.72-7.72 1.47 1.35L5.41 20z\"/>\n",
              "  </svg>\n",
              "      </button>\n",
              "      \n",
              "  <style>\n",
              "    .colab-df-container {\n",
              "      display:flex;\n",
              "      flex-wrap:wrap;\n",
              "      gap: 12px;\n",
              "    }\n",
              "\n",
              "    .colab-df-convert {\n",
              "      background-color: #E8F0FE;\n",
              "      border: none;\n",
              "      border-radius: 50%;\n",
              "      cursor: pointer;\n",
              "      display: none;\n",
              "      fill: #1967D2;\n",
              "      height: 32px;\n",
              "      padding: 0 0 0 0;\n",
              "      width: 32px;\n",
              "    }\n",
              "\n",
              "    .colab-df-convert:hover {\n",
              "      background-color: #E2EBFA;\n",
              "      box-shadow: 0px 1px 2px rgba(60, 64, 67, 0.3), 0px 1px 3px 1px rgba(60, 64, 67, 0.15);\n",
              "      fill: #174EA6;\n",
              "    }\n",
              "\n",
              "    [theme=dark] .colab-df-convert {\n",
              "      background-color: #3B4455;\n",
              "      fill: #D2E3FC;\n",
              "    }\n",
              "\n",
              "    [theme=dark] .colab-df-convert:hover {\n",
              "      background-color: #434B5C;\n",
              "      box-shadow: 0px 1px 3px 1px rgba(0, 0, 0, 0.15);\n",
              "      filter: drop-shadow(0px 1px 2px rgba(0, 0, 0, 0.3));\n",
              "      fill: #FFFFFF;\n",
              "    }\n",
              "  </style>\n",
              "\n",
              "      <script>\n",
              "        const buttonEl =\n",
              "          document.querySelector('#df-dd8bab2f-b095-4c7a-8efb-0d182b7c2404 button.colab-df-convert');\n",
              "        buttonEl.style.display =\n",
              "          google.colab.kernel.accessAllowed ? 'block' : 'none';\n",
              "\n",
              "        async function convertToInteractive(key) {\n",
              "          const element = document.querySelector('#df-dd8bab2f-b095-4c7a-8efb-0d182b7c2404');\n",
              "          const dataTable =\n",
              "            await google.colab.kernel.invokeFunction('convertToInteractive',\n",
              "                                                     [key], {});\n",
              "          if (!dataTable) return;\n",
              "\n",
              "          const docLinkHtml = 'Like what you see? Visit the ' +\n",
              "            '<a target=\"_blank\" href=https://colab.research.google.com/notebooks/data_table.ipynb>data table notebook</a>'\n",
              "            + ' to learn more about interactive tables.';\n",
              "          element.innerHTML = '';\n",
              "          dataTable['output_type'] = 'display_data';\n",
              "          await google.colab.output.renderOutput(dataTable, element);\n",
              "          const docLink = document.createElement('div');\n",
              "          docLink.innerHTML = docLinkHtml;\n",
              "          element.appendChild(docLink);\n",
              "        }\n",
              "      </script>\n",
              "    </div>\n",
              "  </div>\n",
              "  "
            ]
          },
          "metadata": {},
          "execution_count": 4
        }
      ],
      "source": [
        "### You code here:\n",
        "import pandas as pd\n",
        "import numpy as np\n",
        "import matplotlib.pyplot as pt\n",
        "\n",
        "df_train = \"https://raw.githubusercontent.com/suthapalliuday/INFO5502-Summer2022/main/datasets/\"\n",
        "df = pd.read_csv(df_train+\"portfolio_data.csv\", header=0)\n",
        "df\n",
        "\n",
        "\n",
        "\n"
      ]
    },
    {
      "cell_type": "code",
      "source": [
        "#null value check\n",
        "df.isna().sum()\n",
        "import seaborn as sns\n",
        "pt.figure(1 , figsize = (6 , 3))\n",
        "cor = sns.heatmap(df.corr(), annot=True)"
      ],
      "metadata": {
        "colab": {
          "base_uri": "https://localhost:8080/",
          "height": 215
        },
        "id": "EGpQuIlS83F3",
        "outputId": "75bbedd2-9214-4281-891f-780a9eb47fca"
      },
      "execution_count": 12,
      "outputs": [
        {
          "output_type": "display_data",
          "data": {
            "text/plain": [
              "<Figure size 432x216 with 2 Axes>"
            ],
            "image/png": "[encoded data removed]"
          },
          "metadata": {
            "needs_background": "light"
          }
        }
      ]
    },
    {
      "cell_type": "code",
      "source": [
        "all_stocks_except_btc = df.drop(['Date', 'BTC'], axis = 1)\n",
        "BTC_stock = df['BTC']\n",
        "from sklearn.model_selection import train_test_split\n",
        "x_train,x_test,y_train,y_test = train_test_split(all_stocks_except_btc,BTC_stock,test_size = 0.1)\n",
        "from sklearn.linear_model import LinearRegression\n",
        "from sklearn.metrics import mean_squared_error, r2_score\n",
        "\n",
        "model = LinearRegression()\n",
        "btc_fit = model.fit(x_train,y_train)\n",
        "predicted_score = model.score(x_test,y_test)\n",
        "prediction = btc_fit.predict(x_test)\n",
        "print(\"Root Mean Squared Error BTC stocks = \",np.sqrt(mean_squared_error(y_test, prediction)))\n",
        "print(\"Model prediction score BTC:\",predicted_score)\n",
        "diff_colors = [(x/13, x/130.0, 0.2) for x in range(12)]\n",
        "df3 = pd.DataFrame({'BTC PRICE':prediction,'Predicted price':y_test.index})\n",
        "df3.plot.bar(x='BTC PRICE', y='Predicted price', color=diff_colors, rot=0)"
      ],
      "metadata": {
        "colab": {
          "base_uri": "https://localhost:8080/",
          "height": 331
        },
        "id": "G6KIbx2E834d",
        "outputId": "ce9fa05f-246d-4750-fd5c-7625d9de56ba"
      },
      "execution_count": 11,
      "outputs": [
        {
          "output_type": "stream",
          "name": "stdout",
          "text": [
            "Root Mean Squared Error BTC stocks =  1761.575149965533\n",
            "Model prediction score BTC: 0.6586215126454569\n"
          ]
        },
        {
          "output_type": "execute_result",
          "data": {
            "text/plain": [
              "<matplotlib.axes._subplots.AxesSubplot at 0x7f963df367d0>"
            ]
          },
          "metadata": {},
          "execution_count": 11
        },
        {
          "output_type": "display_data",
          "data": {
            "text/plain": [
              "<Figure size 432x288 with 1 Axes>"
            ],
            "image/png": "[encoded data removed]"
          },
          "metadata": {
            "needs_background": "light"
          }
        }
      ]
    },
    {
      "cell_type": "code",
      "source": [
        "all_stocks_except_amazon = df.drop(['Date', 'AMZN'], axis = 1)\n",
        "amazon_stock = df['AMZN']\n",
        "\n",
        "x_train,x_test,y_train,y_test = train_test_split(all_stocks_except_amazon,amazon_stock,test_size = 0.1)\n",
        "amzn_fit = model.fit(x_train_amazon,y_train_amazon)\n",
        "predicted_score = model.score(x_test_amazon,y_test_amazon)\n",
        "prediction = amzn_fit.predict(x_test)\n",
        "print(\"Root Mean Squared Error Amazon stocks = \",np.sqrt(mean_squared_error(y_test_amazon, prediction)))\n",
        "print(\"Model prediction score Amazon: \",predicted_score)\n",
        "diff_colors = [(x/25, x/200.0, 0.4) for x in range(10)]\n",
        "df3 = pd.DataFrame({'Amazon PRICE':prediction,'Predicted price':y_test_amazon.index})\n",
        "df3.plot.bar(x='Amazon PRICE', y='Predicted price', color=diff_colors, rot=0)"
      ],
      "metadata": {
        "colab": {
          "base_uri": "https://localhost:8080/",
          "height": 331
        },
        "id": "i0jsS4_K9HIv",
        "outputId": "4d44de38-7ea1-41c3-b35c-0e475c9aa024"
      },
      "execution_count": 16,
      "outputs": [
        {
          "output_type": "stream",
          "name": "stdout",
          "text": [
            "Root Mean Squared Error Amazon stocks =  773.7787325573137\n",
            "Model prediction score Amazon:  0.9798589142953845\n"
          ]
        },
        {
          "output_type": "execute_result",
          "data": {
            "text/plain": [
              "<matplotlib.axes._subplots.AxesSubplot at 0x7f963e272a50>"
            ]
          },
          "metadata": {},
          "execution_count": 16
        },
        {
          "output_type": "display_data",
          "data": {
            "text/plain": [
              "<Figure size 432x288 with 1 Axes>"
            ],
            "image/png": "[encoded data removed]"
          },
          "metadata": {
            "needs_background": "light"
          }
        }
      ]
    },
    {
      "cell_type": "code",
      "source": [
        "all_stocks_except_netflix = df.drop(['Date', 'NFLX'], axis = 1)\n",
        "Netflix_stock = df['NFLX']\n",
        "\n",
        "x_train,x_test,y_train,y_test = train_test_split(all_stocks_except_netflix,Netflix_stock,test_size = 0.1)\n",
        "Netflix_fit = model.fit(x_train_Netflix,y_train_Netflix)\n",
        "predicted_score = model.score(x_test_Netflix,y_test_Netflix)\n",
        "prediction = Netflix_fit.predict(x_test)\n",
        "print(\"Root Mean Squared Error Netflix stocks = \",np.sqrt(mean_squared_error(y_test_Netflix, prediction)))\n",
        "print(\"Model prediction score Netflix:\",predicted_score)\n",
        "diff_colors = [(x/15, x/80.0, 0.6) for x in range(8)]\n",
        "df3 = pd.DataFrame({'Netflix PRICE':prediction,'Predicted price':y_test_Netflix.index})\n",
        "df3.plot.bar(x='Netflix PRICE', y='Predicted price', color=diff_colors, rot=0)"
      ],
      "metadata": {
        "colab": {
          "base_uri": "https://localhost:8080/",
          "height": 331
        },
        "id": "_xOXCJLM9RNH",
        "outputId": "cb7a732a-c0e1-405f-8db9-dd1be44f6541"
      },
      "execution_count": 18,
      "outputs": [
        {
          "output_type": "stream",
          "name": "stdout",
          "text": [
            "Root Mean Squared Error Netflix stocks =  153.7288745224645\n",
            "Model prediction score Netflix: 0.9600291544757998\n"
          ]
        },
        {
          "output_type": "execute_result",
          "data": {
            "text/plain": [
              "<matplotlib.axes._subplots.AxesSubplot at 0x7f963e0e5550>"
            ]
          },
          "metadata": {},
          "execution_count": 18
        },
        {
          "output_type": "display_data",
          "data": {
            "text/plain": [
              "<Figure size 432x288 with 1 Axes>"
            ],
            "image/png": "[encoded data removed]"
          },
          "metadata": {
            "needs_background": "light"
          }
        }
      ]
    }
  ],
  "metadata": {
    "kernelspec": {
      "display_name": "Python 3 (ipykernel)",
      "language": "python",
      "name": "python3"
    },
    "language_info": {
      "codemirror_mode": {
        "name": "ipython",
        "version": 3
      },
      "file_extension": ".py",
      "mimetype": "text/x-python",
      "name": "python",
      "nbconvert_exporter": "python",
      "pygments_lexer": "ipython3",
      "version": "3.9.12"
    },
    "colab": {
      "name": "lab_assignment_06.ipynb",
      "provenance": [],
      "collapsed_sections": [],
      "include_colab_link": true
    }
  },
  "nbformat": 4,
  "nbformat_minor": 0
}