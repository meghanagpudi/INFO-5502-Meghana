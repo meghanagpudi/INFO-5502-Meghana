{
  "cells": [
    {
      "cell_type": "markdown",
      "metadata": {
        "id": "view-in-github",
        "colab_type": "text"
      },
      "source": [
        "<a href=\"https://colab.research.google.com/github/meghanagpudi/INFO-5502-Meghana/blob/main/lab_assignment_01.ipynb\" target=\"_parent\"><img src=\"https://colab.research.google.com/assets/colab-badge.svg\" alt=\"Open In Colab\"/></a>"
      ]
    },
    {
      "cell_type": "markdown",
      "metadata": {
        "id": "DymRJbxDBCnf"
      },
      "source": [
        "# **The first Lab-assignment (07/15/2022 11:59'AM' to 7/19/2022 11:59PM, 50 points in total)**"
      ]
    },
    {
      "cell_type": "markdown",
      "metadata": {
        "id": "jJDe71iLB616"
      },
      "source": [
        "(1) Write a Python program to count the number of characters in a string. (6 points)\n",
        "\n",
        "Sample String : 'google.com', \n",
        "\n",
        "Expected Result : {'o': 3, 'g': 2, '.': 1, 'e': 1, 'l': 1, 'm': 1, 'c': 1}"
      ]
    },
    {
      "cell_type": "code",
      "execution_count": 2,
      "metadata": {
        "colab": {
          "base_uri": "https://localhost:8080/"
        },
        "id": "MtKskTzbCLaU",
        "outputId": "0e3c02fb-6c32-4107-c167-43ad579dcf72"
      },
      "outputs": [
        {
          "output_type": "stream",
          "name": "stdout",
          "text": [
            "Enter StringApplea\n",
            "{'p': 2, 'A': 1, 'l': 1, 'e': 1, 'a': 1}\n"
          ]
        }
      ],
      "source": [
        "# write your answer here\n",
        "import pandas as pd\n",
        "\n",
        "strng = input('Enter String')\n",
        "\n",
        "dictionary={}\n",
        "\n",
        "d =  pd.Series(list(strng)).value_counts()  #This will convert the string into list and for each character in the list it will count number of occurences\n",
        "\n",
        "dictionary=d.to_dict()\n",
        "\n",
        "print(dictionary)\n"
      ]
    },
    {
      "cell_type": "markdown",
      "metadata": {
        "id": "55W9AMdXCSpV"
      },
      "source": [
        "(2) Write a Python program to sum all the items in a list. (6 points)"
      ]
    },
    {
      "cell_type": "code",
      "execution_count": 4,
      "metadata": {
        "colab": {
          "base_uri": "https://localhost:8080/"
        },
        "id": "I57NXsauCec2",
        "outputId": "9df96be9-216f-446a-9036-e40920107db8"
      },
      "outputs": [
        {
          "output_type": "stream",
          "name": "stdout",
          "text": [
            "Enter the elements in the list:5\n",
            "1\n",
            "2\n",
            "3\n",
            "4\n",
            "5\n",
            "15\n"
          ]
        }
      ],
      "source": [
        "# write your answer here\n",
        "l=0\n",
        "\n",
        "Sum=0\n",
        "n=int(input(\"Enter the elements in the list:\") )#number of elements in list\n",
        "for i in range(n):\n",
        "    l=int(input()) #input list\n",
        "    Sum=Sum+l  #sum of the elements in the list\n",
        "print(Sum)"
      ]
    },
    {
      "cell_type": "markdown",
      "metadata": {
        "id": "4ulBZ6yhCi9F"
      },
      "source": [
        "(3) Write a Python program to get a string from a given string where all occurrences of its first char have been changed to '\\$', except the first char itself. (6 points)\n",
        "\n",
        "Sample String : 'restart', \n",
        "\n",
        "Expected Result : 'resta\\$t'"
      ]
    },
    {
      "cell_type": "code",
      "execution_count": 6,
      "metadata": {
        "colab": {
          "base_uri": "https://localhost:8080/"
        },
        "id": "Fj0XhwbBCw2o",
        "outputId": "0af1025b-3449-4b6f-c397-cec878c7dbfd"
      },
      "outputs": [
        {
          "output_type": "stream",
          "name": "stdout",
          "text": [
            "Enter the string value:restart\n",
            "resta$$\n"
          ]
        }
      ],
      "source": [
        "# write your answer here\n",
        "string=input(\"Enter the string value:\")\n",
        "for i in range(len(string)):\n",
        "    for j in range(i+1,len(string)):\n",
        "        if(string[i]==string[j]):\n",
        "            string=string[:j]+'$'+string[j+1:]\n",
        "print(string)"
      ]
    },
    {
      "cell_type": "markdown",
      "metadata": {
        "id": "_bIP7s1MCzue"
      },
      "source": [
        "(4) Write a program with python which could accept two parameter a and b to calculate and output the result of S, where \n",
        "\n",
        "$\\ S=3.14*(1+a/b)^3$ (6 points)\n",
        "\n"
      ]
    },
    {
      "cell_type": "code",
      "execution_count": 7,
      "metadata": {
        "colab": {
          "base_uri": "https://localhost:8080/"
        },
        "id": "w79QilHXD3Mg",
        "outputId": "303c038c-621b-47d9-abe3-dc760f077a49"
      },
      "outputs": [
        {
          "output_type": "stream",
          "name": "stdout",
          "text": [
            "Enter value of a:3\n",
            "Enter value of b:4\n",
            "16.8284375\n"
          ]
        }
      ],
      "source": [
        "# write your answer here\n",
        "a=int(input(\"Enter value of a:\"))\n",
        "b=int(input(\"Enter value of b:\"))\n",
        "S=3.14*pow(1+a/b,3)\n",
        "print (S)"
      ]
    },
    {
      "cell_type": "markdown",
      "metadata": {
        "id": "xCa2bK9aD4Q3"
      },
      "source": [
        "(5) Write a Python program to concatenate following dictionaries to create a new one. (6 points)\n",
        "\n",
        "Sample Dictionary : dic1={1:10, 2:20}, dic2={3:30, 4:40}, dic3={5:50,6:60}, \n",
        "\n",
        "Expected Result : {1: 10, 2: 20, 3: 30, 4: 40, 5: 50, 6: 60}\n"
      ]
    },
    {
      "cell_type": "code",
      "execution_count": 8,
      "metadata": {
        "colab": {
          "base_uri": "https://localhost:8080/"
        },
        "id": "_z4aLqAbEET1",
        "outputId": "eb9d838b-0895-4f7c-cf0d-fba7a30586b0"
      },
      "outputs": [
        {
          "output_type": "stream",
          "name": "stdout",
          "text": [
            "{1: 10, 2: 20, 3: 30, 4: 40, 5: 50, 6: 60}\n"
          ]
        }
      ],
      "source": [
        "# write your answer here\n",
        "d1={1:10,2:20}\n",
        "d2={3:30,4:40}\n",
        "d3={5:50,6:60}\n",
        "d4={}\n",
        "d4.update(d1)\n",
        "d4.update(d2)\n",
        "d4.update(d3)\n",
        "print(d4)"
      ]
    },
    {
      "cell_type": "markdown",
      "metadata": {
        "id": "0v48Vqa7FrQh"
      },
      "source": [
        "(6) Write a Python program to check whether an element exists within a tuple. (6 points)"
      ]
    },
    {
      "cell_type": "code",
      "execution_count": 14,
      "metadata": {
        "colab": {
          "base_uri": "https://localhost:8080/"
        },
        "id": "7WEmgq-DF2P1",
        "outputId": "0736733b-a330-4683-cde6-ea120ec80055"
      },
      "outputs": [
        {
          "output_type": "stream",
          "name": "stdout",
          "text": [
            "Enter elements in tuples:123454\n",
            "4\n",
            "4  exists in tuple\n"
          ]
        }
      ],
      "source": [
        "# write your answer here\n",
        "tuple1=input('Enter elements in tuples:')\n",
        "find=input()\n",
        "if find in tuple1:\n",
        "    print(find, \" exists in tuple\")\n",
        "else:\n",
        "    print(find, \"does not exists in tuple\")\n"
      ]
    },
    {
      "cell_type": "markdown",
      "metadata": {
        "id": "vD5PYLMuGga_"
      },
      "source": [
        "(7) Write a Python program to find maximum and the minimum value in a set. (6 points)"
      ]
    },
    {
      "cell_type": "code",
      "execution_count": 15,
      "metadata": {
        "colab": {
          "base_uri": "https://localhost:8080/"
        },
        "id": "t0D5kdJUGjjw",
        "outputId": "9ae26ab5-a851-469f-83e8-c87d400605fe"
      },
      "outputs": [
        {
          "output_type": "stream",
          "name": "stdout",
          "text": [
            "minimum value in a set is 0\n",
            "maximium value in a set is 9\n"
          ]
        }
      ],
      "source": [
        "# write your answer here\n",
        "S={9,0,4,3,2,5}\n",
        "print(\"minimum value in a set is\", min(S))\n",
        "print(\"maximium value in a set is\", max(S))"
      ]
    },
    {
      "cell_type": "markdown",
      "metadata": {
        "id": "va92eD7SN49K"
      },
      "source": [
        "(8) Write a Python program to find the duplicate elements in a given array of integers. Return -1 If there are no such elements. (8 points)"
      ]
    },
    {
      "cell_type": "code",
      "execution_count": 16,
      "metadata": {
        "colab": {
          "base_uri": "https://localhost:8080/"
        },
        "id": "vS4FoI_6N49K",
        "outputId": "8f7aa5f6-6929-4637-d909-eaeea97e1e61"
      },
      "outputs": [
        {
          "output_type": "stream",
          "name": "stdout",
          "text": [
            "-1\n"
          ]
        }
      ],
      "source": [
        "# write your answer here\n",
        "l=[1,2,3,4,5]\n",
        "r=[]\n",
        "for i in range(0,len(l)):\n",
        "    for j in range(i+1,len(l)):\n",
        "        if(l[i]==l[j]):\n",
        "            if l[j] not in r:\n",
        "                r.append(l[j])\n",
        "if(r!=[]):\n",
        "    print(r)\n",
        "else:\n",
        "    print(\"-1\") #if no duplicate elements then print -1"
      ]
    },
    {
      "cell_type": "code",
      "source": [
        "from datetime import date\n",
        "import calendar\n",
        "year=int(input()) # input for year \n",
        "c=calendar.TextCalendar(calendar.SUNDAY)\n",
        "for i in range(1,13):\n",
        "    for j in c.itermonthdays(year,i):\n",
        "        if j!=0:\n",
        "            day=date(year,i,j)\n",
        "            if day.weekday()==6:\n",
        "                print(\"%d-%d-%d\" % (j,i,year ))\n",
        "    print(\"---------------\")"
      ],
      "metadata": {
        "colab": {
          "base_uri": "https://localhost:8080/"
        },
        "id": "5M3Nvd35QFeA",
        "outputId": "6cab411a-b264-43af-e48b-206ac9197668"
      },
      "execution_count": 17,
      "outputs": [
        {
          "output_type": "stream",
          "name": "stdout",
          "text": [
            "2020\n",
            "5-1-2020\n",
            "12-1-2020\n",
            "19-1-2020\n",
            "26-1-2020\n",
            "---------------\n",
            "2-2-2020\n",
            "9-2-2020\n",
            "16-2-2020\n",
            "23-2-2020\n",
            "---------------\n",
            "1-3-2020\n",
            "8-3-2020\n",
            "15-3-2020\n",
            "22-3-2020\n",
            "29-3-2020\n",
            "---------------\n",
            "5-4-2020\n",
            "12-4-2020\n",
            "19-4-2020\n",
            "26-4-2020\n",
            "---------------\n",
            "3-5-2020\n",
            "10-5-2020\n",
            "17-5-2020\n",
            "24-5-2020\n",
            "31-5-2020\n",
            "---------------\n",
            "7-6-2020\n",
            "14-6-2020\n",
            "21-6-2020\n",
            "28-6-2020\n",
            "---------------\n",
            "5-7-2020\n",
            "12-7-2020\n",
            "19-7-2020\n",
            "26-7-2020\n",
            "---------------\n",
            "2-8-2020\n",
            "9-8-2020\n",
            "16-8-2020\n",
            "23-8-2020\n",
            "30-8-2020\n",
            "---------------\n",
            "6-9-2020\n",
            "13-9-2020\n",
            "20-9-2020\n",
            "27-9-2020\n",
            "---------------\n",
            "4-10-2020\n",
            "11-10-2020\n",
            "18-10-2020\n",
            "25-10-2020\n",
            "---------------\n",
            "1-11-2020\n",
            "8-11-2020\n",
            "15-11-2020\n",
            "22-11-2020\n",
            "29-11-2020\n",
            "---------------\n",
            "6-12-2020\n",
            "13-12-2020\n",
            "20-12-2020\n",
            "27-12-2020\n",
            "---------------\n"
          ]
        }
      ]
    }
  ],
  "metadata": {
    "colab": {
      "collapsed_sections": [],
      "name": "lab_assignment_01.ipynb",
      "provenance": [],
      "include_colab_link": true
    },
    "kernelspec": {
      "display_name": "Python 3 (ipykernel)",
      "language": "python",
      "name": "python3"
    },
    "language_info": {
      "codemirror_mode": {
        "name": "ipython",
        "version": 3
      },
      "file_extension": ".py",
      "mimetype": "text/x-python",
      "name": "python",
      "nbconvert_exporter": "python",
      "pygments_lexer": "ipython3",
      "version": "3.9.12"
    },
    "vscode": {
      "interpreter": {
        "hash": "5c6a7f839effdddf35473dacbb9a8184e57ebbba5133cab03b12e4f28d4f0d0f"
      }
    }
  },
  "nbformat": 4,
  "nbformat_minor": 0
}