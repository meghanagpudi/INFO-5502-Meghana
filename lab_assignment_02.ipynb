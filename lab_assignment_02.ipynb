{
  "cells": [
    {
      "cell_type": "markdown",
      "metadata": {
        "id": "view-in-github",
        "colab_type": "text"
      },
      "source": [
        "<a href=\"https://colab.research.google.com/github/meghanagpudi/INFO-5502-Meghana/blob/main/lab_assignment_02.ipynb\" target=\"_parent\"><img src=\"https://colab.research.google.com/assets/colab-badge.svg\" alt=\"Open In Colab\"/></a>"
      ]
    },
    {
      "cell_type": "markdown",
      "metadata": {
        "id": "Ryk8D1Q4Wsrp"
      },
      "source": [
        "# **The second Lab-assignment (07/19/2022 11:59'AM' - 07/22/2022 11:59PM, 50 points in total)**"
      ]
    },
    {
      "cell_type": "markdown",
      "metadata": {
        "id": "90_NR8c5XGWc"
      },
      "source": [
        "# Question 1\n",
        "\n",
        "(5 points). Write a Python program to generate 12 random numbers between 1 and 100. Sort the list of numbers in ascending order and print it out. Sort the list of numbers in descending order and print it out. Calculate the average for the group and print it out."
      ]
    },
    {
      "cell_type": "code",
      "execution_count": 1,
      "metadata": {
        "colab": {
          "base_uri": "https://localhost:8080/"
        },
        "id": "5QX6bJjGWXY9",
        "outputId": "2e9c3ff3-26df-41d0-c175-cf96604f9b2d"
      },
      "outputs": [
        {
          "output_type": "stream",
          "name": "stdout",
          "text": [
            "[21, 22, 31, 36, 53, 56, 61, 68, 74, 82, 89, 92]\n",
            "[92, 89, 82, 74, 68, 61, 56, 53, 36, 31, 22, 21]\n"
          ]
        }
      ],
      "source": [
        "# Your code here\n",
        "\n",
        "import random\n",
        "ass=[]\n",
        "des=[]\n",
        "average=0\n",
        "for i in range(0,12):\n",
        "    n=random.randint(1,100)\n",
        "    ass.append(n)\n",
        "    des.append(n)\n",
        "    average+=n\n",
        "ass.sort()\n",
        "des.sort(reverse=True)\n",
        "average=average/12\n",
        "print(ass)\n",
        "print(des)"
      ]
    },
    {
      "cell_type": "markdown",
      "metadata": {
        "id": "CmFoI4jDS9nx"
      },
      "source": [
        "# Question 2 \n",
        "\n",
        "(5 points). The formula that describes the volume V of a sphere with radius r is the following:\n",
        "\n",
        "$ V=\\frac{4}{3}\\ast\\ \\pi\\ast\\ r^3 $\n",
        "\n",
        "Write a program to calculate the value of V when r is in the range of 1–10. Output the result in the following format:\n",
        "\n",
        "\tr\tV\n",
        "\t1\t…\n",
        "\t2\t…\n",
        "\t3\t…\n"
      ]
    },
    {
      "cell_type": "code",
      "execution_count": 2,
      "metadata": {
        "colab": {
          "base_uri": "https://localhost:8080/"
        },
        "id": "pEyqeioAT95b",
        "outputId": "6f4af115-b930-400a-de25-adf7981ab568"
      },
      "outputs": [
        {
          "output_type": "stream",
          "name": "stdout",
          "text": [
            "enter string1: Python is a good language\n",
            "enter string2: Data science requires python\n",
            "list of string1:  ['Python', 'is', 'a', 'good', 'language']\n",
            "list of string2:  ['Data', 'science', 'requires', 'python']\n",
            "common words in a string:  ['Python']\n",
            "String1 after removing punctuations :  Python is a good language\n",
            "String2 after removing punctuations :  Data science requires python\n",
            "{'a': 5, 'e': 5, 'o': 4, 'i': 3, 'u': 2}\n"
          ]
        }
      ],
      "source": [
        "# Your code here\n",
        "\n",
        "import re\n",
        "import collections\n",
        "import operator\n",
        "str1=input(\"enter string1: \")\n",
        "str2=input(\"enter string2: \")\n",
        "s1=re.findall(r'\\w+|[^\\s\\w]+', str1)\n",
        "print(\"list of string1: \",s1)\n",
        "s2=re.findall(r'\\w+|[^\\s\\w]+', str2)\n",
        "print(\"list of string2: \",s2)\n",
        "s3=[]\n",
        "for i in s1:\n",
        "    for j in s2:\n",
        "        if i==j or i.lower()==j or j.lower()==i:\n",
        "            s3.append(i)\n",
        "print(\"common words in a string: \",s3)\n",
        "print(\"String1 after removing punctuations : \", re.sub(r'[^\\w\\s]', '', str1))\n",
        "print(\"String2 after removing punctuations : \", re.sub(r'[^\\w\\s]', '', str2))\n",
        "string=str1+str2\n",
        "counts={}\n",
        "for vowel in \"aeiou\":\n",
        "    count = string.count(vowel)\n",
        "    counts[vowel] = count\n",
        "print(dict(sorted(counts.items(), key=operator.itemgetter(1),reverse=True)))"
      ]
    },
    {
      "cell_type": "code",
      "source": [
        "r=float(input(\"\"))\n",
        "pi=22/7\n",
        "print(\"r\"+\" \"*3+\"V\")\n",
        "for i in range(1,11):\n",
        "    v=float(4.0/3.0*pi*i**3)\n",
        "    print(i,\"\"*3,v)"
      ],
      "metadata": {
        "colab": {
          "base_uri": "https://localhost:8080/"
        },
        "id": "qR_ww5IP32jY",
        "outputId": "44322d61-44e2-4fed-924a-67e2837d6c27"
      },
      "execution_count": 3,
      "outputs": [
        {
          "output_type": "stream",
          "name": "stdout",
          "text": [
            "3\n",
            "r   V\n",
            "1  4.19047619047619\n",
            "2  33.52380952380952\n",
            "3  113.14285714285712\n",
            "4  268.19047619047615\n",
            "5  523.8095238095237\n",
            "6  905.142857142857\n",
            "7  1437.333333333333\n",
            "8  2145.523809523809\n",
            "9  3054.857142857142\n",
            "10  4190.47619047619\n"
          ]
        }
      ]
    },
    {
      "cell_type": "markdown",
      "metadata": {
        "id": "z3tBE7E-Xn5X"
      },
      "source": [
        "# Question 3\n",
        "\n",
        "(40 points). In the field of Data Science, data is often formatted as a comma-delimited (CSV) file, where each line in a file corresponds to a field's value. Refer to Chapter 9 (p. 106) for more information on comma-delimited files. To answer this question, you will need to download the file [lab_assignment_02_denton_housing.csv](https://github.com/suthapalliuday/INFO5502-Summer2022/blob/main/datasets/lab_assignment_02_denton_housing.csv) included with this assignment. The file [lab_assignment_02_denton_housing.csv](https://github.com/suthapalliuday/INFO5502-Summer2022/blob/main/datasets/lab_assignment_02_denton_housing.csv) contains statistics about housing in the city of Denton from 2008 to 2014. Write a program to implement the following questions.\n",
        "\n",
        "(1) (10 pts) Calculate the difference in the number of Occupied Housing Units from year to year and print it. The difference must be calculated for the consecutive years such as 2008-2009, 2009-2010 etc. Finally, print the values in the ascending order.\n",
        "\n",
        "(2) (10 pts) For all the years, calculate the percentage of housing units which are vacant an occupied. Print the results in the following format:\n",
        "\n",
        "Year Vacant Housing Units Occupied Housing Units\n",
        "\n",
        "    2008  30%   70%                          \n",
        "\t2009 ----- -----\n",
        "\t2010 ----- -----\n",
        "    2011 ----- -----\n",
        "\t2012 ----- -----\n",
        "    2013 ----- -----\n",
        "\t2014 ----- -----\n",
        "  \n",
        "  \n",
        "\n",
        "(3) (10 pts) Calculate and print the valued and years in which the highest number of housing units were vacant and occupied. Print the results in the following format:  \n",
        "\n",
        "                              Year\tValue\n",
        "\tVacant Housing Units\t  -----   -----\n",
        "\tOccupied Housing Units\t-----   -----\n",
        "\n",
        "(4) (10 pts) Calculate the harmonic mean of the total housing units and print it out. You can find the information about harmonic mean here: https://ncalculators.com/statistics/harmonic-mean-calculator.htm"
      ]
    },
    {
      "cell_type": "code",
      "source": [
        "import pandas as pd\n",
        "import numpy as np\n",
        "\n",
        "df=pd.read_csv(\"https://github.com/suthapalliuday/INFO5502-Summer2022/blob/main/datasets/lab_assignment_02_denton_housing.csv\")\n",
        "\n",
        "df1=df[df[\"title_field\"]=='Occupied Housing Units']\n",
        "df1.sort_values(by=['year'],ascending=True,inplace=True)\n",
        "df1[\"value_DIFF\"]=abs(df1[\"value\"].diff())\n",
        "df1=df1.dropna()\n",
        "df1=df1.reset_index(drop=True)\n",
        "df1.sort_values(by='value_DIFF',ascending=True,inplace=True)\n",
        "for ind in df1.index:\n",
        "        print(str(df1['year'][ind])+'-'+str(df1['year'][ind]-1),'',df1['value_DIFF'][ind])"
      ],
      "metadata": {
        "id": "NT4yhAGX7TRw"
      },
      "execution_count": null,
      "outputs": []
    },
    {
      "cell_type": "code",
      "source": [
        "import math\n",
        "Value1=0.0\n",
        "Total=0.0\n",
        "df=df.reset_index(drop=True)\n",
        "for year in range(2008,2015):\n",
        "    x=df[(df['year'] == year) & (df['title_field'] == 'Vacant Housing Units')]['value'].values[0]\n",
        "    y=df[(df['year'] == year) & (df['title_field'] == 'Occupied Housing Units')]['value'].values[0]\n",
        "    Total=df[(df['year'] == year) & (df['title_field'] == 'Total Housing Units')]['value'].values[0] \n",
        "    Vac_Percentage=round((x/Total)*100)\n",
        "    Occ_Percentage=round((y/Total)*100)\n",
        "    print(year,str(Vac_Percentage)+'%','',str(Occ_Percentage)+'%')"
      ],
      "metadata": {
        "colab": {
          "base_uri": "https://localhost:8080/"
        },
        "id": "gzkT0Z_74Lyd",
        "outputId": "d87b3235-64ba-474c-cc21-10cd5d8351e3"
      },
      "execution_count": 10,
      "outputs": [
        {
          "output_type": "stream",
          "name": "stdout",
          "text": [
            "2008 11%  89%\n",
            "2009 9%  91%\n",
            "2010 8%  92%\n",
            "2011 9%  91%\n",
            "2012 7%  93%\n",
            "2013 9%  91%\n",
            "2014 6%  94%\n"
          ]
        }
      ]
    },
    {
      "cell_type": "code",
      "source": [
        "print('                    ','Year','Value')\n",
        "for i in ('Vacant Housing Units','Occupied Housing Units'):\n",
        "    a=df[(df['title_field'] == i)]['value'].max()\n",
        "    b=df[(df['title_field'] == i)]['year'].max()\n",
        "    print(i,b,a)"
      ],
      "metadata": {
        "colab": {
          "base_uri": "https://localhost:8080/"
        },
        "id": "YwE5Zwmk4OQw",
        "outputId": "f876d22d-8171-463b-f42c-79d0db9f36d6"
      },
      "execution_count": 11,
      "outputs": [
        {
          "output_type": "stream",
          "name": "stdout",
          "text": [
            "                     Year Value\n",
            "Vacant Housing Units 2014 4483\n",
            "Occupied Housing Units 2014 46295\n"
          ]
        }
      ]
    },
    {
      "cell_type": "code",
      "source": [
        "import pandas as pd\n",
        "from scipy import stats\n",
        "import statistics\n",
        "df = pd.read_csv(\"https://github.com/suthapalliuday/INFO5502-Summer2022/blob/main/datasets/lab_assignment_02_denton_housing.csv\")\n",
        "print(\"Harmonic mean for total house units\")\n",
        "print(stats.hmean(df['value'][df.title_field ==\"Total Housing Units\"]))\n"
      ],
      "metadata": {
        "id": "zZ3iVoHF7PCV"
      },
      "execution_count": null,
      "outputs": []
    }
  ],
  "metadata": {
    "colab": {
      "collapsed_sections": [],
      "name": "lab_assignment_02.ipynb",
      "provenance": [],
      "include_colab_link": true
    },
    "kernelspec": {
      "display_name": "Python 3 (ipykernel)",
      "language": "python",
      "name": "python3"
    },
    "language_info": {
      "codemirror_mode": {
        "name": "ipython",
        "version": 3
      },
      "file_extension": ".py",
      "mimetype": "text/x-python",
      "name": "python",
      "nbconvert_exporter": "python",
      "pygments_lexer": "ipython3",
      "version": "3.9.12"
    }
  },
  "nbformat": 4,
  "nbformat_minor": 0
}